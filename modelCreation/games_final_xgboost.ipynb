{
 "cells": [
  {
   "cell_type": "code",
   "execution_count": 1,
   "metadata": {},
   "outputs": [
    {
     "name": "stdout",
     "output_type": "stream",
     "text": [
      "Requirement already up-to-date: xgboost in c:\\users\\wynnm\\anaconda3\\lib\\site-packages (1.3.3)\n",
      "Requirement already satisfied, skipping upgrade: scipy in c:\\users\\wynnm\\anaconda3\\lib\\site-packages (from xgboost) (1.5.2)\n",
      "Requirement already satisfied, skipping upgrade: numpy in c:\\users\\wynnm\\anaconda3\\lib\\site-packages (from xgboost) (1.19.2)\n"
     ]
    }
   ],
   "source": [
    "!pip3 install --upgrade xgboost\n",
    "\n",
    "from sklearn.model_selection import train_test_split\n",
    "from sklearn import metrics\n",
    "from xgboost import XGBClassifier"
   ]
  },
  {
   "cell_type": "code",
   "execution_count": 1,
   "metadata": {},
   "outputs": [],
   "source": [
    "import pandas as pd\n",
    "df = pd.read_csv('preppedData/games_final.csv')\n",
    "\n",
    "# Preserving 2nd classification target in a different dataframe\n",
    "# and dropping unnecessary columns\n",
    "df_spread = df.drop(columns=['ID','GAME_DATE_EST','GAME_ID','SEASON','HOME_TEAM_ID','AWAY_TEAM_ID',\n",
    "                      'MARGIN','HOME_TEAM_WINS'])\n",
    "df = df.drop(columns=['ID','GAME_DATE_EST','GAME_ID','SEASON','HOME_TEAM_ID','AWAY_TEAM_ID',\n",
    "                      'MARGIN','HOME_TEAM_BEAT_SPREAD'])"
   ]
  },
  {
   "cell_type": "markdown",
   "metadata": {},
   "source": [
    "### XGBoost for HOME_TEAM_WINS w/o SPREAD"
   ]
  },
  {
   "cell_type": "code",
   "execution_count": 3,
   "metadata": {},
   "outputs": [],
   "source": [
    "# Train/Test Split\n",
    "x = df.values[:, 0:((len(df.columns))-2)]\n",
    "y = df.values[:, ((len(df.columns))-1)]\n",
    "x_train, x_test, y_train, y_test = train_test_split(x, y, test_size = 0.2, random_state = 100)"
   ]
  },
  {
   "cell_type": "code",
   "execution_count": 4,
   "metadata": {},
   "outputs": [
    {
     "name": "stdout",
     "output_type": "stream",
     "text": [
      "[[422 288]\n",
      " [222 789]]\n",
      "Accuracy: 0.7036606624055781\n",
      "Precision: 0.7325905292479109\n",
      "Recall: 0.7804154302670623\n"
     ]
    }
   ],
   "source": [
    "# Create XGBoost classification model\n",
    "model = XGBClassifier(booster = 'gbtree',eval_metric = 'error',use_label_encoder=False)\n",
    "model.fit(x_train, y_train)\n",
    "\n",
    "# Make predictions\n",
    "y_pred = model.predict(x_test)\n",
    "predictions = [round(value) for value in y_pred]\n",
    "\n",
    "# Evalute predictions made with model\n",
    "print(metrics.confusion_matrix(y_test, predictions))\n",
    "print(\"Accuracy:\", metrics.accuracy_score(y_test, predictions))\n",
    "print(\"Precision:\",metrics.precision_score(y_test, predictions))\n",
    "print(\"Recall:\",metrics.recall_score(y_test, predictions))"
   ]
  },
  {
   "cell_type": "markdown",
   "metadata": {},
   "source": [
    "### XGBoost for HOME_TEAM_WINS w/ SPREAD"
   ]
  },
  {
   "cell_type": "code",
   "execution_count": 5,
   "metadata": {},
   "outputs": [],
   "source": [
    "# Train/Test Split\n",
    "x = df.values[:, 0:((len(df.columns))-1)]\n",
    "y = df.values[:, ((len(df.columns))-1)]\n",
    "x_train, x_test, y_train, y_test = train_test_split(x, y, test_size = 0.2, random_state = 100)"
   ]
  },
  {
   "cell_type": "code",
   "execution_count": 6,
   "metadata": {},
   "outputs": [
    {
     "name": "stdout",
     "output_type": "stream",
     "text": [
      "[[419 291]\n",
      " [216 795]]\n",
      "Accuracy: 0.705403834979663\n",
      "Precision: 0.7320441988950276\n",
      "Recall: 0.7863501483679525\n"
     ]
    }
   ],
   "source": [
    "# Create XGBoost classification model\n",
    "model = XGBClassifier(booster = 'gbtree',eval_metric = 'error',use_label_encoder=False)\n",
    "model.fit(x_train, y_train)\n",
    "\n",
    "# Make predictions\n",
    "y_pred = model.predict(x_test)\n",
    "predictions = [round(value) for value in y_pred]\n",
    "\n",
    "# Evalute predictions made with model\n",
    "print(metrics.confusion_matrix(y_test, predictions))\n",
    "print(\"Accuracy:\", metrics.accuracy_score(y_test, predictions))\n",
    "print(\"Precision:\",metrics.precision_score(y_test, predictions))\n",
    "print(\"Recall:\",metrics.recall_score(y_test, predictions))"
   ]
  },
  {
   "cell_type": "markdown",
   "metadata": {},
   "source": [
    "### XGBoost for HOME_TEAM_BEAT_SPREAD w/o SPREAD"
   ]
  },
  {
   "cell_type": "code",
   "execution_count": 7,
   "metadata": {},
   "outputs": [],
   "source": [
    "# Train/Test Split\n",
    "x = df_spread.values[:, 0:((len(df_spread.columns))-2)]\n",
    "y = df_spread.values[:, ((len(df_spread.columns))-1)]\n",
    "x_train, x_test, y_train, y_test = train_test_split(x, y, test_size = 0.2, random_state = 100)"
   ]
  },
  {
   "cell_type": "code",
   "execution_count": 8,
   "metadata": {},
   "outputs": [
    {
     "name": "stdout",
     "output_type": "stream",
     "text": [
      "[[452 421]\n",
      " [416 432]]\n",
      "Accuracy: 0.5136548518303312\n",
      "Precision: 0.5064478311840562\n",
      "Recall: 0.5094339622641509\n"
     ]
    }
   ],
   "source": [
    "# Create XGBoost classification model\n",
    "model = XGBClassifier(booster = 'gbtree',eval_metric = 'error',use_label_encoder=False)\n",
    "model.fit(x_train, y_train)\n",
    "\n",
    "# Make predictions\n",
    "y_pred = model.predict(x_test)\n",
    "predictions = [round(value) for value in y_pred]\n",
    "\n",
    "# Evalute predictions made with model\n",
    "print(metrics.confusion_matrix(y_test, predictions))\n",
    "print(\"Accuracy:\", metrics.accuracy_score(y_test, predictions))\n",
    "print(\"Precision:\",metrics.precision_score(y_test, predictions))\n",
    "print(\"Recall:\",metrics.recall_score(y_test, predictions))"
   ]
  },
  {
   "cell_type": "markdown",
   "metadata": {},
   "source": [
    "### XGBoost for HOME_TEAM_BEAT_SPREAD w/ SPREAD"
   ]
  },
  {
   "cell_type": "code",
   "execution_count": 9,
   "metadata": {},
   "outputs": [],
   "source": [
    "# Train/Test Split\n",
    "x = df_spread.values[:, 0:((len(df_spread.columns))-1)]\n",
    "y = df_spread.values[:, ((len(df_spread.columns))-1)]\n",
    "x_train, x_test, y_train, y_test = train_test_split(x, y, test_size = 0.2, random_state = 100)"
   ]
  },
  {
   "cell_type": "code",
   "execution_count": 10,
   "metadata": {},
   "outputs": [
    {
     "name": "stdout",
     "output_type": "stream",
     "text": [
      "[[472 401]\n",
      " [394 454]]\n",
      "Accuracy: 0.5380592678675189\n",
      "Precision: 0.5309941520467836\n",
      "Recall: 0.535377358490566\n"
     ]
    }
   ],
   "source": [
    "# Create XGBoost classification model\n",
    "model = XGBClassifier(booster = 'gbtree',eval_metric = 'error',use_label_encoder=False)\n",
    "model.fit(x_train, y_train)\n",
    "\n",
    "# Make predictions\n",
    "y_pred = model.predict(x_test)\n",
    "predictions = [round(value) for value in y_pred]\n",
    "\n",
    "# Evalute predictions made with model\n",
    "print(metrics.confusion_matrix(y_test, predictions))\n",
    "print(\"Accuracy:\", metrics.accuracy_score(y_test, predictions))\n",
    "print(\"Precision:\",metrics.precision_score(y_test, predictions))\n",
    "print(\"Recall:\",metrics.recall_score(y_test, predictions))"
   ]
  }
 ],
 "metadata": {
  "kernelspec": {
   "display_name": "Python 3",
   "language": "python",
   "name": "python3"
  },
  "language_info": {
   "codemirror_mode": {
    "name": "ipython",
    "version": 3
   },
   "file_extension": ".py",
   "mimetype": "text/x-python",
   "name": "python",
   "nbconvert_exporter": "python",
   "pygments_lexer": "ipython3",
   "version": "3.8.5"
  }
 },
 "nbformat": 4,
 "nbformat_minor": 4
}
