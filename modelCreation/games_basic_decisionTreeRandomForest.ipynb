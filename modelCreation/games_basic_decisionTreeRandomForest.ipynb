{
 "cells": [
  {
   "cell_type": "code",
   "execution_count": 1,
   "metadata": {},
   "outputs": [
    {
     "name": "stdout",
     "output_type": "stream",
     "text": [
      "<class 'pandas.core.frame.DataFrame'>\n",
      "RangeIndex: 16979 entries, 0 to 16978\n",
      "Data columns (total 24 columns):\n",
      " #   Column          Non-Null Count  Dtype  \n",
      "---  ------          --------------  -----  \n",
      " 0   SEASON          16979 non-null  int64  \n",
      " 1   HOME_TEAM_ID    16979 non-null  int64  \n",
      " 2   HOME_W%         16979 non-null  float64\n",
      " 3   HOME_PS_W%      16979 non-null  float64\n",
      " 4   HOME_PS_FG%     16979 non-null  float64\n",
      " 5   HOME_PS_3P%     16979 non-null  float64\n",
      " 6   HOME_PS_FT%     16979 non-null  float64\n",
      " 7   HOME_PS_REB     16979 non-null  float64\n",
      " 8   HOME_PS_AST     16979 non-null  float64\n",
      " 9   HOME_PS_TOV     16979 non-null  float64\n",
      " 10  HOME_PS_STL     16979 non-null  float64\n",
      " 11  HOME_PS_BLK     16979 non-null  float64\n",
      " 12  AWAY_TEAM_ID    16979 non-null  int64  \n",
      " 13  AWAY_W%         16979 non-null  float64\n",
      " 14  AWAY_PS_W%      16979 non-null  float64\n",
      " 15  AWAY_PS_FG%     16979 non-null  float64\n",
      " 16  AWAY_PS_3P%     16979 non-null  float64\n",
      " 17  AWAY_PS_FT%     16979 non-null  float64\n",
      " 18  AWAY_PS_REB     16979 non-null  float64\n",
      " 19  AWAY_PS_AST     16979 non-null  float64\n",
      " 20  AWAY_PS_TOV     16979 non-null  float64\n",
      " 21  AWAY_PS_STL     16979 non-null  float64\n",
      " 22  AWAY_PS_BLK     16979 non-null  float64\n",
      " 23  HOME_TEAM_WINS  16979 non-null  int64  \n",
      "dtypes: float64(20), int64(4)\n",
      "memory usage: 3.1 MB\n"
     ]
    }
   ],
   "source": [
    "# Import modified data\n",
    "import pandas as pd\n",
    "df = pd.read_csv('preppedData/games_basic.csv')\n",
    "\n",
    "# Drop unnecessary identifiers and regression target\n",
    "df = df.drop(columns=['ID','GAME_DATE_EST','GAME_ID','MARGIN'])\n",
    "df.info()"
   ]
  },
  {
   "cell_type": "code",
   "execution_count": 2,
   "metadata": {},
   "outputs": [],
   "source": [
    "# Import packages for decision tree & random forest\n",
    "from sklearn.model_selection import train_test_split\n",
    "from sklearn import metrics\n",
    "from sklearn import tree\n",
    "from sklearn.ensemble import RandomForestClassifier"
   ]
  },
  {
   "cell_type": "code",
   "execution_count": 3,
   "metadata": {},
   "outputs": [],
   "source": [
    "# Train/Test Split\n",
    "x = df.values[:, 0:((len(df.columns))-2)]\n",
    "y = df.values[:, ((len(df.columns))-1)]\n",
    "x_train, x_test, y_train, y_test = train_test_split(x, y, test_size = 0.2, random_state = 100)"
   ]
  },
  {
   "cell_type": "code",
   "execution_count": 4,
   "metadata": {},
   "outputs": [
    {
     "name": "stdout",
     "output_type": "stream",
     "text": [
      "[[ 788  607]\n",
      " [ 640 1361]]\n",
      "Accuracy: 0.6328032979976443\n",
      "Precision: 0.6915650406504065\n",
      "Recall: 0.68015992003998\n"
     ]
    }
   ],
   "source": [
    "# Decision Tree Classifier\n",
    "treeModel = tree.DecisionTreeClassifier()\n",
    "treeModel.fit(x_train, y_train)\n",
    "y_pred = treeModel.predict(x_test)\n",
    "\n",
    "# Evalute predictions made with model\n",
    "print(metrics.confusion_matrix(y_test, y_pred))\n",
    "print(\"Accuracy:\", metrics.accuracy_score(y_test, y_pred))\n",
    "print(\"Precision:\",metrics.precision_score(y_test, y_pred))\n",
    "print(\"Recall:\",metrics.recall_score(y_test, y_pred))"
   ]
  },
  {
   "cell_type": "code",
   "execution_count": 5,
   "metadata": {},
   "outputs": [
    {
     "name": "stdout",
     "output_type": "stream",
     "text": [
      "[[ 808  587]\n",
      " [ 467 1534]]\n",
      "Accuracy: 0.6896348645465253\n",
      "Precision: 0.7232437529467233\n",
      "Recall: 0.7666166916541729\n"
     ]
    }
   ],
   "source": [
    "# Random Forest Classifier\n",
    "forestModel = RandomForestClassifier(n_estimators=100)\n",
    "forestModel.fit(x_train, y_train)\n",
    "y_pred = forestModel.predict(x_test)\n",
    "\n",
    "# Evalute predictions made with model\n",
    "print(metrics.confusion_matrix(y_test, y_pred))\n",
    "print(\"Accuracy:\", metrics.accuracy_score(y_test, y_pred))\n",
    "print(\"Precision:\",metrics.precision_score(y_test, y_pred))\n",
    "print(\"Recall:\",metrics.recall_score(y_test, y_pred))"
   ]
  }
 ],
 "metadata": {
  "kernelspec": {
   "display_name": "Python 3",
   "language": "python",
   "name": "python3"
  },
  "language_info": {
   "codemirror_mode": {
    "name": "ipython",
    "version": 3
   },
   "file_extension": ".py",
   "mimetype": "text/x-python",
   "name": "python",
   "nbconvert_exporter": "python",
   "pygments_lexer": "ipython3",
   "version": "3.8.5"
  }
 },
 "nbformat": 4,
 "nbformat_minor": 4
}
