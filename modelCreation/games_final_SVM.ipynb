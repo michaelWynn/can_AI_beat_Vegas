{
 "cells": [
  {
   "cell_type": "markdown",
   "metadata": {},
   "source": [
    "### Using new dataset games_final\n",
    "- Contains 2 classiciation targets: HOME_TEAM_WINS & HOME_TEAM_BEAT_SPREAD\n",
    "- Due to addition of new classification target, only rows containing spread remain (about half)"
   ]
  },
  {
   "cell_type": "code",
   "execution_count": 1,
   "metadata": {
    "scrolled": true
   },
   "outputs": [],
   "source": [
    "import pandas as pd\n",
    "df = pd.read_csv('../preppedData/games_final.csv')\n",
    "\n",
    "# Preserving 2nd classification target in a different dataframe\n",
    "# and dropping unnecessary columns\n",
    "df_spread = df.drop(columns=['ID','GAME_DATE_EST','GAME_ID','SEASON','HOME_TEAM_ID','AWAY_TEAM_ID',\n",
    "                      'MARGIN','HOME_TEAM_WINS'])\n",
    "df = df.drop(columns=['ID','GAME_DATE_EST','GAME_ID','SEASON','HOME_TEAM_ID','AWAY_TEAM_ID',\n",
    "                      'MARGIN','HOME_TEAM_BEAT_SPREAD'])"
   ]
  },
  {
   "cell_type": "code",
   "execution_count": 2,
   "metadata": {},
   "outputs": [],
   "source": [
    "# Import packages for SVM\n",
    "from sklearn.model_selection import train_test_split\n",
    "from sklearn.preprocessing import MinMaxScaler\n",
    "from sklearn.svm import LinearSVC\n",
    "from sklearn import metrics"
   ]
  },
  {
   "cell_type": "markdown",
   "metadata": {},
   "source": [
    "### Creating SVM for HOME_TEAM_WINS w/o SPREAD\n",
    "- To include spread, change ((len(df_wins.columns))-2) -> ((len(df_wins.columns))-1)"
   ]
  },
  {
   "cell_type": "code",
   "execution_count": 3,
   "metadata": {},
   "outputs": [],
   "source": [
    "# Train/Test Split\n",
    "x = df.values[:, 0:((len(df.columns))-2)]\n",
    "y = df.values[:, ((len(df.columns))-1)]\n",
    "\n",
    "# Feature scaling\n",
    "scaler = MinMaxScaler(feature_range=(0, 1))\n",
    "x_scaled = scaler.fit_transform(x)\n",
    "\n",
    "x_train, x_test, y_train, y_test = train_test_split(x_scaled, y, test_size = 0.2, random_state = 100)"
   ]
  },
  {
   "cell_type": "code",
   "execution_count": 4,
   "metadata": {},
   "outputs": [
    {
     "name": "stdout",
     "output_type": "stream",
     "text": [
      "[[436 274]\n",
      " [191 820]]\n",
      "Accuracy: 0.7298082510168507\n",
      "Precision: 0.7495429616087751\n",
      "Recall: 0.811078140454995\n"
     ]
    }
   ],
   "source": [
    "# Creation of SVM as a Linear SVC\n",
    "clf = LinearSVC(dual=False, random_state=0, tol=1e-5, max_iter=5000)\n",
    "# Training\n",
    "clf.fit(x_train, y_train)\n",
    "# Prediction\n",
    "y_pred = clf.predict(x_test)\n",
    "\n",
    "# Evalute predictions made with model\n",
    "print(metrics.confusion_matrix(y_test, y_pred))\n",
    "print(\"Accuracy:\", metrics.accuracy_score(y_test, y_pred))\n",
    "print(\"Precision:\",metrics.precision_score(y_test, y_pred))\n",
    "print(\"Recall:\",metrics.recall_score(y_test, y_pred))"
   ]
  },
  {
   "cell_type": "markdown",
   "metadata": {},
   "source": [
    "### Creating SVM for HOME_TEAM_WINS w/ SPREAD"
   ]
  },
  {
   "cell_type": "code",
   "execution_count": 5,
   "metadata": {},
   "outputs": [],
   "source": [
    "# Train/Test Split\n",
    "x = df.values[:, 0:((len(df.columns))-1)]\n",
    "y = df.values[:, ((len(df.columns))-1)]\n",
    "\n",
    "# Feature scaling\n",
    "scaler = MinMaxScaler(feature_range=(0, 1))\n",
    "x_scaled = scaler.fit_transform(x)\n",
    "\n",
    "x_train, x_test, y_train, y_test = train_test_split(x_scaled, y, test_size = 0.2, random_state = 100)"
   ]
  },
  {
   "cell_type": "code",
   "execution_count": 6,
   "metadata": {},
   "outputs": [
    {
     "name": "stdout",
     "output_type": "stream",
     "text": [
      "[[431 279]\n",
      " [196 815]]\n",
      "Accuracy: 0.7239976757699013\n",
      "Precision: 0.7449725776965265\n",
      "Recall: 0.8061325420375866\n"
     ]
    }
   ],
   "source": [
    "# Creation of SVM as a Linear SVC\n",
    "clf = LinearSVC(dual=False, random_state=0, tol=1e-5, max_iter=5000)\n",
    "# Training\n",
    "clf.fit(x_train, y_train)\n",
    "# Prediction\n",
    "y_pred = clf.predict(x_test)\n",
    "\n",
    "# Evalute predictions made with model\n",
    "print(metrics.confusion_matrix(y_test, y_pred))\n",
    "print(\"Accuracy:\", metrics.accuracy_score(y_test, y_pred))\n",
    "print(\"Precision:\",metrics.precision_score(y_test, y_pred))\n",
    "print(\"Recall:\",metrics.recall_score(y_test, y_pred))"
   ]
  },
  {
   "cell_type": "markdown",
   "metadata": {},
   "source": [
    "### Creating SVM for HOME_TEAM_BEAT_SPREAD w/o SPREAD"
   ]
  },
  {
   "cell_type": "code",
   "execution_count": 7,
   "metadata": {},
   "outputs": [],
   "source": [
    "# Train/Test Split\n",
    "x = df_spread.values[:, 0:((len(df_spread.columns))-2)]\n",
    "y = df_spread.values[:, ((len(df_spread.columns))-1)]\n",
    "\n",
    "# Feature scaling\n",
    "scaler = MinMaxScaler(feature_range=(0, 1))\n",
    "x_scaled = scaler.fit_transform(x)\n",
    "\n",
    "x_train, x_test, y_train, y_test = train_test_split(x_scaled, y, test_size = 0.2, random_state = 100)"
   ]
  },
  {
   "cell_type": "code",
   "execution_count": 8,
   "metadata": {},
   "outputs": [
    {
     "name": "stdout",
     "output_type": "stream",
     "text": [
      "[[529 344]\n",
      " [445 403]]\n",
      "Accuracy: 0.5415456130156886\n",
      "Precision: 0.5394912985274432\n",
      "Recall: 0.47523584905660377\n"
     ]
    }
   ],
   "source": [
    "# Creation of SVM as a Linear SVC\n",
    "clf = LinearSVC(dual=False, random_state=0, tol=1e-5, max_iter=5000)\n",
    "# Training\n",
    "clf.fit(x_train, y_train)\n",
    "# Prediction\n",
    "y_pred = clf.predict(x_test)\n",
    "\n",
    "# Evalute predictions made with model\n",
    "print(metrics.confusion_matrix(y_test, y_pred))\n",
    "print(\"Accuracy:\", metrics.accuracy_score(y_test, y_pred))\n",
    "print(\"Precision:\",metrics.precision_score(y_test, y_pred))\n",
    "print(\"Recall:\",metrics.recall_score(y_test, y_pred))"
   ]
  },
  {
   "cell_type": "markdown",
   "metadata": {},
   "source": [
    "### Creating SVM for HOME_TEAM_BEAT_SPREAD w/ SPREAD"
   ]
  },
  {
   "cell_type": "code",
   "execution_count": 9,
   "metadata": {},
   "outputs": [],
   "source": [
    "# Train/Test Split\n",
    "x = df_spread.values[:, 0:((len(df_spread.columns))-1)]\n",
    "y = df_spread.values[:, ((len(df_spread.columns))-1)]\n",
    "\n",
    "# Feature scaling\n",
    "scaler = MinMaxScaler(feature_range=(0, 1))\n",
    "x_scaled = scaler.fit_transform(x)\n",
    "\n",
    "x_train, x_test, y_train, y_test = train_test_split(x_scaled, y, test_size = 0.2, random_state = 100)"
   ]
  },
  {
   "cell_type": "code",
   "execution_count": 10,
   "metadata": {},
   "outputs": [
    {
     "name": "stdout",
     "output_type": "stream",
     "text": [
      "[[541 332]\n",
      " [422 426]]\n",
      "Accuracy: 0.5618826263800116\n",
      "Precision: 0.5620052770448549\n",
      "Recall: 0.5023584905660378\n"
     ]
    }
   ],
   "source": [
    "# Creation of SVM as a Linear SVC\n",
    "clf = LinearSVC(dual=False, random_state=0, tol=1e-5, max_iter=5000)\n",
    "# Training\n",
    "clf.fit(x_train, y_train)\n",
    "# Prediction\n",
    "y_pred = clf.predict(x_test)\n",
    "\n",
    "# Evalute predictions made with model\n",
    "print(metrics.confusion_matrix(y_test, y_pred))\n",
    "print(\"Accuracy:\", metrics.accuracy_score(y_test, y_pred))\n",
    "print(\"Precision:\",metrics.precision_score(y_test, y_pred))\n",
    "print(\"Recall:\",metrics.recall_score(y_test, y_pred))"
   ]
  }
 ],
 "metadata": {
  "kernelspec": {
   "display_name": "Python 3",
   "language": "python",
   "name": "python3"
  },
  "language_info": {
   "codemirror_mode": {
    "name": "ipython",
    "version": 3
   },
   "file_extension": ".py",
   "mimetype": "text/x-python",
   "name": "python",
   "nbconvert_exporter": "python",
   "pygments_lexer": "ipython3",
   "version": "3.8.5"
  }
 },
 "nbformat": 4,
 "nbformat_minor": 4
}
