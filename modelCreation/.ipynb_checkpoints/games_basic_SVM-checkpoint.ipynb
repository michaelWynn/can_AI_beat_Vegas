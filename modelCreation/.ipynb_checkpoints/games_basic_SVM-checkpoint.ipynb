{
 "cells": [
  {
   "cell_type": "code",
   "execution_count": 1,
   "metadata": {},
   "outputs": [
    {
     "name": "stdout",
     "output_type": "stream",
     "text": [
      "<class 'pandas.core.frame.DataFrame'>\n",
      "RangeIndex: 16979 entries, 0 to 16978\n",
      "Data columns (total 24 columns):\n",
      " #   Column          Non-Null Count  Dtype  \n",
      "---  ------          --------------  -----  \n",
      " 0   SEASON          16979 non-null  int64  \n",
      " 1   HOME_TEAM_ID    16979 non-null  int64  \n",
      " 2   HOME_W%         16979 non-null  float64\n",
      " 3   HOME_PS_W%      16979 non-null  float64\n",
      " 4   HOME_PS_FG%     16979 non-null  float64\n",
      " 5   HOME_PS_3P%     16979 non-null  float64\n",
      " 6   HOME_PS_FT%     16979 non-null  float64\n",
      " 7   HOME_PS_REB     16979 non-null  float64\n",
      " 8   HOME_PS_AST     16979 non-null  float64\n",
      " 9   HOME_PS_TOV     16979 non-null  float64\n",
      " 10  HOME_PS_STL     16979 non-null  float64\n",
      " 11  HOME_PS_BLK     16979 non-null  float64\n",
      " 12  AWAY_TEAM_ID    16979 non-null  int64  \n",
      " 13  AWAY_W%         16979 non-null  float64\n",
      " 14  AWAY_PS_W%      16979 non-null  float64\n",
      " 15  AWAY_PS_FG%     16979 non-null  float64\n",
      " 16  AWAY_PS_3P%     16979 non-null  float64\n",
      " 17  AWAY_PS_FT%     16979 non-null  float64\n",
      " 18  AWAY_PS_REB     16979 non-null  float64\n",
      " 19  AWAY_PS_AST     16979 non-null  float64\n",
      " 20  AWAY_PS_TOV     16979 non-null  float64\n",
      " 21  AWAY_PS_STL     16979 non-null  float64\n",
      " 22  AWAY_PS_BLK     16979 non-null  float64\n",
      " 23  HOME_TEAM_WINS  16979 non-null  int64  \n",
      "dtypes: float64(20), int64(4)\n",
      "memory usage: 3.1 MB\n"
     ]
    }
   ],
   "source": [
    "# Import modified data\n",
    "import pandas as pd\n",
    "df = pd.read_csv('../preppedData/games_basic.csv')\n",
    "\n",
    "# Drop unnecessary identifiers and regression target\n",
    "df = df.drop(columns=['ID','GAME_DATE_EST','GAME_ID','MARGIN'])\n",
    "df.info()"
   ]
  },
  {
   "cell_type": "code",
   "execution_count": 2,
   "metadata": {},
   "outputs": [],
   "source": [
    "# Import packages for SVM\n",
    "from sklearn.model_selection import train_test_split\n",
    "from sklearn.preprocessing import MinMaxScaler\n",
    "from sklearn.svm import LinearSVC\n",
    "from sklearn import metrics"
   ]
  },
  {
   "cell_type": "code",
   "execution_count": 3,
   "metadata": {},
   "outputs": [],
   "source": [
    "# Train/Test Split\n",
    "x = df.values[:, 0:((len(df.columns))-2)]\n",
    "y = df.values[:, ((len(df.columns))-1)]\n",
    "\n",
    "# Feature scaling\n",
    "scaler = MinMaxScaler(feature_range=(0, 1))\n",
    "x_scaled = scaler.fit_transform(x)\n",
    "\n",
    "x_train, x_test, y_train, y_test = train_test_split(x_scaled, y, test_size = 0.2, random_state = 100)"
   ]
  },
  {
   "cell_type": "code",
   "execution_count": 5,
   "metadata": {},
   "outputs": [
    {
     "name": "stdout",
     "output_type": "stream",
     "text": [
      "[[ 822  573]\n",
      " [ 366 1635]]\n",
      "Accuracy: 0.7234982332155477\n",
      "Precision: 0.7404891304347826\n",
      "Recall: 0.8170914542728636\n"
     ]
    }
   ],
   "source": [
    "# Creation of SVM as a Linear SVC\n",
    "clf = LinearSVC(dual=False, random_state=0, tol=1e-5, max_iter=5000)\n",
    "# Training\n",
    "clf.fit(x_train, y_train)\n",
    "# Prediction\n",
    "y_pred = clf.predict(x_test)\n",
    "\n",
    "# Evalute predictions made with model\n",
    "print(metrics.confusion_matrix(y_test, y_pred))\n",
    "print(\"Accuracy:\", metrics.accuracy_score(y_test, y_pred))\n",
    "print(\"Precision:\",metrics.precision_score(y_test, y_pred))\n",
    "print(\"Recall:\",metrics.recall_score(y_test, y_pred))"
   ]
  }
 ],
 "metadata": {
  "kernelspec": {
   "display_name": "Python 3",
   "language": "python",
   "name": "python3"
  },
  "language_info": {
   "codemirror_mode": {
    "name": "ipython",
    "version": 3
   },
   "file_extension": ".py",
   "mimetype": "text/x-python",
   "name": "python",
   "nbconvert_exporter": "python",
   "pygments_lexer": "ipython3",
   "version": "3.8.5"
  }
 },
 "nbformat": 4,
 "nbformat_minor": 4
}
