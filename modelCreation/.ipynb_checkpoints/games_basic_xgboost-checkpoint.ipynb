{
 "cells": [
  {
   "cell_type": "code",
   "execution_count": 1,
   "metadata": {},
   "outputs": [
    {
     "name": "stdout",
     "output_type": "stream",
     "text": [
      "Requirement already up-to-date: xgboost in c:\\users\\wynnm\\anaconda3\\lib\\site-packages (1.3.3)\n",
      "Requirement already satisfied, skipping upgrade: numpy in c:\\users\\wynnm\\anaconda3\\lib\\site-packages (from xgboost) (1.19.2)\n",
      "Requirement already satisfied, skipping upgrade: scipy in c:\\users\\wynnm\\anaconda3\\lib\\site-packages (from xgboost) (1.5.2)\n"
     ]
    }
   ],
   "source": [
    "!pip3 install --upgrade xgboost\n",
    "\n",
    "from sklearn.model_selection import train_test_split\n",
    "from sklearn import metrics\n",
    "from xgboost import XGBClassifier"
   ]
  },
  {
   "cell_type": "code",
   "execution_count": 2,
   "metadata": {},
   "outputs": [
    {
     "name": "stdout",
     "output_type": "stream",
     "text": [
      "<class 'pandas.core.frame.DataFrame'>\n",
      "RangeIndex: 16979 entries, 0 to 16978\n",
      "Data columns (total 21 columns):\n",
      " #   Column          Non-Null Count  Dtype  \n",
      "---  ------          --------------  -----  \n",
      " 0   HOME_W%         16979 non-null  float64\n",
      " 1   HOME_PS_W%      16979 non-null  float64\n",
      " 2   HOME_PS_FG%     16979 non-null  float64\n",
      " 3   HOME_PS_3P%     16979 non-null  float64\n",
      " 4   HOME_PS_FT%     16979 non-null  float64\n",
      " 5   HOME_PS_REB     16979 non-null  float64\n",
      " 6   HOME_PS_AST     16979 non-null  float64\n",
      " 7   HOME_PS_TOV     16979 non-null  float64\n",
      " 8   HOME_PS_STL     16979 non-null  float64\n",
      " 9   HOME_PS_BLK     16979 non-null  float64\n",
      " 10  AWAY_W%         16979 non-null  float64\n",
      " 11  AWAY_PS_W%      16979 non-null  float64\n",
      " 12  AWAY_PS_FG%     16979 non-null  float64\n",
      " 13  AWAY_PS_3P%     16979 non-null  float64\n",
      " 14  AWAY_PS_FT%     16979 non-null  float64\n",
      " 15  AWAY_PS_REB     16979 non-null  float64\n",
      " 16  AWAY_PS_AST     16979 non-null  float64\n",
      " 17  AWAY_PS_TOV     16979 non-null  float64\n",
      " 18  AWAY_PS_STL     16979 non-null  float64\n",
      " 19  AWAY_PS_BLK     16979 non-null  float64\n",
      " 20  HOME_TEAM_WINS  16979 non-null  int64  \n",
      "dtypes: float64(20), int64(1)\n",
      "memory usage: 2.7 MB\n"
     ]
    }
   ],
   "source": [
    "# Import data\n",
    "import pandas as pd\n",
    "df = pd.read_csv('../preppedData/games_basic.csv')\n",
    "\n",
    "# Drop unnecessary identifiers and regression target\n",
    "df = df.drop(columns=['ID','GAME_DATE_EST','GAME_ID','SEASON','HOME_TEAM_ID','AWAY_TEAM_ID','MARGIN'])\n",
    "df.info()"
   ]
  },
  {
   "cell_type": "code",
   "execution_count": 3,
   "metadata": {},
   "outputs": [],
   "source": [
    "# Train/Test Split\n",
    "x = df.values[:, 0:((len(df.columns))-1)]\n",
    "y = df.values[:, ((len(df.columns))-1)]\n",
    "x_train, x_test, y_train, y_test = train_test_split(x, y, test_size = 0.2, random_state = 100)"
   ]
  },
  {
   "cell_type": "code",
   "execution_count": 4,
   "metadata": {},
   "outputs": [
    {
     "name": "stdout",
     "output_type": "stream",
     "text": [
      "[[ 820  575]\n",
      " [ 430 1571]]\n",
      "Accuracy: 0.7040636042402827\n",
      "Precision: 0.7320596458527493\n",
      "Recall: 0.7851074462768616\n"
     ]
    }
   ],
   "source": [
    "# Create XGBoost classification model\n",
    "model = XGBClassifier(booster = 'gbtree',eval_metric = 'error',use_label_encoder=False)\n",
    "model.fit(x_train, y_train)\n",
    "\n",
    "# Make predictions\n",
    "y_pred = model.predict(x_test)\n",
    "predictions = [round(value) for value in y_pred]\n",
    "\n",
    "# Evalute predictions made with model\n",
    "print(metrics.confusion_matrix(y_test, predictions))\n",
    "print(\"Accuracy:\", metrics.accuracy_score(y_test, predictions))\n",
    "print(\"Precision:\",metrics.precision_score(y_test, predictions))\n",
    "print(\"Recall:\",metrics.recall_score(y_test, predictions))"
   ]
  }
 ],
 "metadata": {
  "kernelspec": {
   "display_name": "Python 3",
   "language": "python",
   "name": "python3"
  },
  "language_info": {
   "codemirror_mode": {
    "name": "ipython",
    "version": 3
   },
   "file_extension": ".py",
   "mimetype": "text/x-python",
   "name": "python",
   "nbconvert_exporter": "python",
   "pygments_lexer": "ipython3",
   "version": "3.8.5"
  }
 },
 "nbformat": 4,
 "nbformat_minor": 4
}
