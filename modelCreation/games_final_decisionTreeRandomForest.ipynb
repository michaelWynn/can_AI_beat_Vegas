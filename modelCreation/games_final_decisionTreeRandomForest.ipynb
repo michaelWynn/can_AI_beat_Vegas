{
 "cells": [
  {
   "cell_type": "code",
   "execution_count": 1,
   "metadata": {},
   "outputs": [],
   "source": [
    "import pandas as pd\n",
    "df = pd.read_csv('../preppedData/games_final.csv')\n",
    "\n",
    "# Preserving 2nd classification target in a different dataframe\n",
    "# and dropping unnecessary columns\n",
    "df_spread = df.drop(columns=['ID','GAME_DATE_EST','GAME_ID','SEASON','HOME_TEAM_ID','AWAY_TEAM_ID',\n",
    "                      'MARGIN','HOME_TEAM_WINS'])\n",
    "df = df.drop(columns=['ID','GAME_DATE_EST','GAME_ID','SEASON','HOME_TEAM_ID','AWAY_TEAM_ID',\n",
    "                      'MARGIN','HOME_TEAM_BEAT_SPREAD'])"
   ]
  },
  {
   "cell_type": "code",
   "execution_count": 2,
   "metadata": {},
   "outputs": [],
   "source": [
    "# Import packages for decision tree & random forest\n",
    "from sklearn.model_selection import train_test_split\n",
    "from sklearn import metrics\n",
    "from sklearn import tree\n",
    "from sklearn.ensemble import RandomForestClassifier"
   ]
  },
  {
   "cell_type": "markdown",
   "metadata": {},
   "source": [
    "### Decision Tree for HOME_TEAM_WINS w/o SPREAD"
   ]
  },
  {
   "cell_type": "code",
   "execution_count": 3,
   "metadata": {},
   "outputs": [],
   "source": [
    "# Train/Test Split\n",
    "x = df.values[:, 0:((len(df.columns))-2)]\n",
    "y = df.values[:, ((len(df.columns))-1)]\n",
    "x_train, x_test, y_train, y_test = train_test_split(x, y, test_size = 0.2, random_state = 100)"
   ]
  },
  {
   "cell_type": "code",
   "execution_count": 4,
   "metadata": {},
   "outputs": [
    {
     "name": "stdout",
     "output_type": "stream",
     "text": [
      "[[402 308]\n",
      " [313 698]]\n",
      "Accuracy: 0.6391632771644393\n",
      "Precision: 0.6938369781312127\n",
      "Recall: 0.6904055390702275\n"
     ]
    }
   ],
   "source": [
    "# Decision Tree Classifier\n",
    "treeModel = tree.DecisionTreeClassifier()\n",
    "treeModel.fit(x_train, y_train)\n",
    "y_pred = treeModel.predict(x_test)\n",
    "\n",
    "# Evalute predictions made with model\n",
    "print(metrics.confusion_matrix(y_test, y_pred))\n",
    "print(\"Accuracy:\", metrics.accuracy_score(y_test, y_pred))\n",
    "print(\"Precision:\",metrics.precision_score(y_test, y_pred))\n",
    "print(\"Recall:\",metrics.recall_score(y_test, y_pred))"
   ]
  },
  {
   "cell_type": "markdown",
   "metadata": {},
   "source": [
    "### Decision Tree for HOME_TEAM_WINS w/ SPREAD"
   ]
  },
  {
   "cell_type": "code",
   "execution_count": 5,
   "metadata": {},
   "outputs": [],
   "source": [
    "# Train/Test Split\n",
    "x = df.values[:, 0:((len(df.columns))-1)]\n",
    "y = df.values[:, ((len(df.columns))-1)]\n",
    "x_train, x_test, y_train, y_test = train_test_split(x, y, test_size = 0.2, random_state = 100)"
   ]
  },
  {
   "cell_type": "code",
   "execution_count": 6,
   "metadata": {},
   "outputs": [
    {
     "name": "stdout",
     "output_type": "stream",
     "text": [
      "[[410 300]\n",
      " [338 673]]\n",
      "Accuracy: 0.6292852992446252\n",
      "Precision: 0.6916752312435765\n",
      "Recall: 0.6656775469831849\n"
     ]
    }
   ],
   "source": [
    "# Decision Tree Classifier\n",
    "treeModel = tree.DecisionTreeClassifier()\n",
    "treeModel.fit(x_train, y_train)\n",
    "y_pred = treeModel.predict(x_test)\n",
    "\n",
    "# Evalute predictions made with model\n",
    "print(metrics.confusion_matrix(y_test, y_pred))\n",
    "print(\"Accuracy:\", metrics.accuracy_score(y_test, y_pred))\n",
    "print(\"Precision:\",metrics.precision_score(y_test, y_pred))\n",
    "print(\"Recall:\",metrics.recall_score(y_test, y_pred))"
   ]
  },
  {
   "cell_type": "markdown",
   "metadata": {},
   "source": [
    "### Decision Tree for HOME_TEAM_BEAT_SPREAD w/o SPREAD"
   ]
  },
  {
   "cell_type": "code",
   "execution_count": 7,
   "metadata": {},
   "outputs": [],
   "source": [
    "# Train/Test Split\n",
    "x = df_spread.values[:, 0:((len(df_spread.columns))-2)]\n",
    "y = df_spread.values[:, ((len(df_spread.columns))-1)]\n",
    "x_train, x_test, y_train, y_test = train_test_split(x, y, test_size = 0.2, random_state = 100)"
   ]
  },
  {
   "cell_type": "code",
   "execution_count": 8,
   "metadata": {},
   "outputs": [
    {
     "name": "stdout",
     "output_type": "stream",
     "text": [
      "[[444 429]\n",
      " [407 441]]\n",
      "Accuracy: 0.5142359093550262\n",
      "Precision: 0.506896551724138\n",
      "Recall: 0.5200471698113207\n"
     ]
    }
   ],
   "source": [
    "# Decision Tree Classifier\n",
    "treeModel = tree.DecisionTreeClassifier()\n",
    "treeModel.fit(x_train, y_train)\n",
    "y_pred = treeModel.predict(x_test)\n",
    "\n",
    "# Evalute predictions made with model\n",
    "print(metrics.confusion_matrix(y_test, y_pred))\n",
    "print(\"Accuracy:\", metrics.accuracy_score(y_test, y_pred))\n",
    "print(\"Precision:\",metrics.precision_score(y_test, y_pred))\n",
    "print(\"Recall:\",metrics.recall_score(y_test, y_pred))"
   ]
  },
  {
   "cell_type": "markdown",
   "metadata": {},
   "source": [
    "### Decision Tree for HOME_TEAM_BEAT_SPREAD w/ SPREAD"
   ]
  },
  {
   "cell_type": "code",
   "execution_count": 9,
   "metadata": {},
   "outputs": [],
   "source": [
    "# Train/Test Split\n",
    "x = df_spread.values[:, 0:((len(df_spread.columns))-1)]\n",
    "y = df_spread.values[:, ((len(df_spread.columns))-1)]\n",
    "x_train, x_test, y_train, y_test = train_test_split(x, y, test_size = 0.2, random_state = 100)"
   ]
  },
  {
   "cell_type": "code",
   "execution_count": 10,
   "metadata": {},
   "outputs": [
    {
     "name": "stdout",
     "output_type": "stream",
     "text": [
      "[[458 415]\n",
      " [418 430]]\n",
      "Accuracy: 0.515979081929111\n",
      "Precision: 0.5088757396449705\n",
      "Recall: 0.5070754716981132\n"
     ]
    }
   ],
   "source": [
    "# Decision Tree Classifier\n",
    "treeModel = tree.DecisionTreeClassifier()\n",
    "treeModel.fit(x_train, y_train)\n",
    "y_pred = treeModel.predict(x_test)\n",
    "\n",
    "# Evalute predictions made with model\n",
    "print(metrics.confusion_matrix(y_test, y_pred))\n",
    "print(\"Accuracy:\", metrics.accuracy_score(y_test, y_pred))\n",
    "print(\"Precision:\",metrics.precision_score(y_test, y_pred))\n",
    "print(\"Recall:\",metrics.recall_score(y_test, y_pred))"
   ]
  },
  {
   "cell_type": "markdown",
   "metadata": {},
   "source": [
    "### Random Forest for HOME_TEAM_WINS w/o SPREAD"
   ]
  },
  {
   "cell_type": "code",
   "execution_count": 11,
   "metadata": {},
   "outputs": [],
   "source": [
    "# Train/Test Split\n",
    "x = df.values[:, 0:((len(df.columns))-2)]\n",
    "y = df.values[:, ((len(df.columns))-1)]\n",
    "x_train, x_test, y_train, y_test = train_test_split(x, y, test_size = 0.2, random_state = 100)"
   ]
  },
  {
   "cell_type": "code",
   "execution_count": 12,
   "metadata": {},
   "outputs": [
    {
     "name": "stdout",
     "output_type": "stream",
     "text": [
      "[[420 290]\n",
      " [234 777]]\n",
      "Accuracy: 0.6955258570598489\n",
      "Precision: 0.7282099343955014\n",
      "Recall: 0.7685459940652819\n"
     ]
    }
   ],
   "source": [
    "# Random Forest Classifier\n",
    "forestModel = RandomForestClassifier(n_estimators=100)\n",
    "forestModel.fit(x_train, y_train)\n",
    "y_pred = forestModel.predict(x_test)\n",
    "\n",
    "# Evalute predictions made with model\n",
    "print(metrics.confusion_matrix(y_test, y_pred))\n",
    "print(\"Accuracy:\", metrics.accuracy_score(y_test, y_pred))\n",
    "print(\"Precision:\",metrics.precision_score(y_test, y_pred))\n",
    "print(\"Recall:\",metrics.recall_score(y_test, y_pred))"
   ]
  },
  {
   "cell_type": "markdown",
   "metadata": {},
   "source": [
    "### Random Forest for HOME_TEAM_WINS w/ SPREAD"
   ]
  },
  {
   "cell_type": "code",
   "execution_count": 13,
   "metadata": {},
   "outputs": [],
   "source": [
    "# Train/Test Split\n",
    "x = df.values[:, 0:((len(df.columns))-1)]\n",
    "y = df.values[:, ((len(df.columns))-1)]\n",
    "x_train, x_test, y_train, y_test = train_test_split(x, y, test_size = 0.2, random_state = 100)"
   ]
  },
  {
   "cell_type": "code",
   "execution_count": 14,
   "metadata": {},
   "outputs": [
    {
     "name": "stdout",
     "output_type": "stream",
     "text": [
      "[[446 264]\n",
      " [239 772]]\n",
      "Accuracy: 0.7077280650784428\n",
      "Precision: 0.7451737451737451\n",
      "Recall: 0.7636003956478734\n"
     ]
    }
   ],
   "source": [
    "# Random Forest Classifier\n",
    "forestModel = RandomForestClassifier(n_estimators=100)\n",
    "forestModel.fit(x_train, y_train)\n",
    "y_pred = forestModel.predict(x_test)\n",
    "\n",
    "# Evalute predictions made with model\n",
    "print(metrics.confusion_matrix(y_test, y_pred))\n",
    "print(\"Accuracy:\", metrics.accuracy_score(y_test, y_pred))\n",
    "print(\"Precision:\",metrics.precision_score(y_test, y_pred))\n",
    "print(\"Recall:\",metrics.recall_score(y_test, y_pred))"
   ]
  },
  {
   "cell_type": "markdown",
   "metadata": {},
   "source": [
    "### Random Forest for HOME_TEAM_BEAT_SPREAD w/o SPREAD"
   ]
  },
  {
   "cell_type": "code",
   "execution_count": 15,
   "metadata": {},
   "outputs": [],
   "source": [
    "# Train/Test Split\n",
    "x = df_spread.values[:, 0:((len(df_spread.columns))-2)]\n",
    "y = df_spread.values[:, ((len(df_spread.columns))-1)]\n",
    "x_train, x_test, y_train, y_test = train_test_split(x, y, test_size = 0.2, random_state = 100)"
   ]
  },
  {
   "cell_type": "code",
   "execution_count": 16,
   "metadata": {},
   "outputs": [
    {
     "name": "stdout",
     "output_type": "stream",
     "text": [
      "[[437 436]\n",
      " [406 442]]\n",
      "Accuracy: 0.5107495642068565\n",
      "Precision: 0.5034168564920274\n",
      "Recall: 0.5212264150943396\n"
     ]
    }
   ],
   "source": [
    "# Random Forest Classifier\n",
    "forestModel = RandomForestClassifier(n_estimators=100)\n",
    "forestModel.fit(x_train, y_train)\n",
    "y_pred = forestModel.predict(x_test)\n",
    "\n",
    "# Evalute predictions made with model\n",
    "print(metrics.confusion_matrix(y_test, y_pred))\n",
    "print(\"Accuracy:\", metrics.accuracy_score(y_test, y_pred))\n",
    "print(\"Precision:\",metrics.precision_score(y_test, y_pred))\n",
    "print(\"Recall:\",metrics.recall_score(y_test, y_pred))"
   ]
  },
  {
   "cell_type": "markdown",
   "metadata": {},
   "source": [
    "### Random Forest for HOME_TEAM_BEAT_SPREAD w/ SPREAD"
   ]
  },
  {
   "cell_type": "code",
   "execution_count": 17,
   "metadata": {},
   "outputs": [],
   "source": [
    "# Train/Test Split\n",
    "x = df_spread.values[:, 0:((len(df_spread.columns))-1)]\n",
    "y = df_spread.values[:, ((len(df_spread.columns))-1)]\n",
    "x_train, x_test, y_train, y_test = train_test_split(x, y, test_size = 0.2, random_state = 100)"
   ]
  },
  {
   "cell_type": "code",
   "execution_count": 18,
   "metadata": {},
   "outputs": [
    {
     "name": "stdout",
     "output_type": "stream",
     "text": [
      "[[473 400]\n",
      " [408 440]]\n",
      "Accuracy: 0.5305055200464845\n",
      "Precision: 0.5238095238095238\n",
      "Recall: 0.5188679245283019\n"
     ]
    }
   ],
   "source": [
    "# Random Forest Classifier\n",
    "forestModel = RandomForestClassifier(n_estimators=100)\n",
    "forestModel.fit(x_train, y_train)\n",
    "y_pred = forestModel.predict(x_test)\n",
    "\n",
    "# Evalute predictions made with model\n",
    "print(metrics.confusion_matrix(y_test, y_pred))\n",
    "print(\"Accuracy:\", metrics.accuracy_score(y_test, y_pred))\n",
    "print(\"Precision:\",metrics.precision_score(y_test, y_pred))\n",
    "print(\"Recall:\",metrics.recall_score(y_test, y_pred))"
   ]
  }
 ],
 "metadata": {
  "kernelspec": {
   "display_name": "Python 3",
   "language": "python",
   "name": "python3"
  },
  "language_info": {
   "codemirror_mode": {
    "name": "ipython",
    "version": 3
   },
   "file_extension": ".py",
   "mimetype": "text/x-python",
   "name": "python",
   "nbconvert_exporter": "python",
   "pygments_lexer": "ipython3",
   "version": "3.8.5"
  }
 },
 "nbformat": 4,
 "nbformat_minor": 4
}
