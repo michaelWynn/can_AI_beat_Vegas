{
 "cells": [
  {
   "cell_type": "markdown",
   "metadata": {},
   "source": [
    "## Keeping only top 4 most predictive features for each team\n",
    "- W% - current season winning percentage, up to this point\n",
    "- PS_W% - previous season winning percentage\n",
    "- PS_MOV - previous season margin of victory\n",
    "- PS_PIE - previous season player impact estimate (team)"
   ]
  },
  {
   "cell_type": "code",
   "execution_count": 1,
   "metadata": {},
   "outputs": [
    {
     "name": "stdout",
     "output_type": "stream",
     "text": [
      "<class 'pandas.core.frame.DataFrame'>\n",
      "Int64Index: 8602 entries, 0 to 8608\n",
      "Data columns (total 16 columns):\n",
      " #   Column          Non-Null Count  Dtype  \n",
      "---  ------          --------------  -----  \n",
      " 0   GAME_DATE_EST   8602 non-null   object \n",
      " 1   GAME_ID         8602 non-null   int64  \n",
      " 2   SEASON          8602 non-null   int64  \n",
      " 3   HOME_TEAM_ID    8602 non-null   int64  \n",
      " 4   HOME_W%         8602 non-null   float64\n",
      " 5   HOME_PS_W%      8602 non-null   float64\n",
      " 6   HOME_PS_MOV     8602 non-null   float64\n",
      " 7   HOME_PS_PIE     8602 non-null   float64\n",
      " 8   AWAY_TEAM_ID    8602 non-null   int64  \n",
      " 9   AWAY_W%         8602 non-null   float64\n",
      " 10  AWAY_PS_W%      8602 non-null   float64\n",
      " 11  AWAY_PS_MOV     8602 non-null   float64\n",
      " 12  AWAY_PS_PIE     8602 non-null   float64\n",
      " 13  SPREAD          8602 non-null   float64\n",
      " 14  MARGIN          8602 non-null   float64\n",
      " 15  HOME_TEAM_WINS  8602 non-null   int64  \n",
      "dtypes: float64(10), int64(5), object(1)\n",
      "memory usage: 1.1+ MB\n"
     ]
    }
   ],
   "source": [
    "import pandas as pd\n",
    "df = pd.read_csv('games_large.csv')\n",
    "df = df[['GAME_DATE_EST','GAME_ID','SEASON','HOME_TEAM_ID','HOME_W%','HOME_PS_W%','HOME_PS_MOV','HOME_PS_PIE',\n",
    "                                            'AWAY_TEAM_ID','AWAY_W%','AWAY_PS_W%','AWAY_PS_MOV','AWAY_PS_PIE',\n",
    "         'SPREAD','MARGIN','HOME_TEAM_WINS']]\n",
    "df = df.dropna()\n",
    "df.info()"
   ]
  },
  {
   "cell_type": "markdown",
   "metadata": {},
   "source": [
    "## Adding a new classification target to test\n",
    "- HOME_TEAM_BEAT_SPREAD\n",
    "- Instead of trying to create a game outcome predictor that works better than Vegas's, I will attempt to predict whether a team will beat their projections"
   ]
  },
  {
   "cell_type": "code",
   "execution_count": 2,
   "metadata": {},
   "outputs": [
    {
     "name": "stdout",
     "output_type": "stream",
     "text": [
      "<class 'pandas.core.frame.DataFrame'>\n",
      "Int64Index: 8602 entries, 0 to 8608\n",
      "Data columns (total 17 columns):\n",
      " #   Column                 Non-Null Count  Dtype  \n",
      "---  ------                 --------------  -----  \n",
      " 0   GAME_DATE_EST          8602 non-null   object \n",
      " 1   GAME_ID                8602 non-null   int64  \n",
      " 2   SEASON                 8602 non-null   int64  \n",
      " 3   HOME_TEAM_ID           8602 non-null   int64  \n",
      " 4   HOME_W%                8602 non-null   float64\n",
      " 5   HOME_PS_W%             8602 non-null   float64\n",
      " 6   HOME_PS_MOV            8602 non-null   float64\n",
      " 7   HOME_PS_PIE            8602 non-null   float64\n",
      " 8   AWAY_TEAM_ID           8602 non-null   int64  \n",
      " 9   AWAY_W%                8602 non-null   float64\n",
      " 10  AWAY_PS_W%             8602 non-null   float64\n",
      " 11  AWAY_PS_MOV            8602 non-null   float64\n",
      " 12  AWAY_PS_PIE            8602 non-null   float64\n",
      " 13  SPREAD                 8602 non-null   float64\n",
      " 14  MARGIN                 8602 non-null   float64\n",
      " 15  HOME_TEAM_WINS         8602 non-null   int64  \n",
      " 16  HOME_TEAM_BEAT_SPREAD  8602 non-null   int32  \n",
      "dtypes: float64(10), int32(1), int64(5), object(1)\n",
      "memory usage: 1.1+ MB\n"
     ]
    }
   ],
   "source": [
    "import numpy as np\n",
    "\n",
    "# Create column VEGAS_PRED to help calculate new classification target -> HOME_TEAM_BEAT_SPREAD\n",
    "df['VEGAS_PRED'] = np.where((df['SPREAD'] <= 0), True, False).astype(\"int32\")\n",
    "\n",
    "# Create column HOME_TEAM_BEAT_SPREAD to try as a new classification target\n",
    "df['HOME_TEAM_BEAT_SPREAD'] = np.where((df['MARGIN'] > -df['SPREAD']), True, False).astype(\"int32\")\n",
    "\n",
    "# Drop helper column\n",
    "df = df.drop(columns=['VEGAS_PRED'])\n",
    "\n",
    "df.info()"
   ]
  },
  {
   "cell_type": "code",
   "execution_count": 3,
   "metadata": {},
   "outputs": [],
   "source": [
    "df.to_csv('games_final.csv')"
   ]
  },
  {
   "cell_type": "code",
   "execution_count": null,
   "metadata": {},
   "outputs": [],
   "source": []
  },
  {
   "cell_type": "markdown",
   "metadata": {},
   "source": [
    "# Removing all rows without the SPREAD variable\n",
    "df = df.dropna()"
   ]
  }
 ],
 "metadata": {
  "kernelspec": {
   "display_name": "Python 3",
   "language": "python",
   "name": "python3"
  },
  "language_info": {
   "codemirror_mode": {
    "name": "ipython",
    "version": 3
   },
   "file_extension": ".py",
   "mimetype": "text/x-python",
   "name": "python",
   "nbconvert_exporter": "python",
   "pygments_lexer": "ipython3",
   "version": "3.8.5"
  }
 },
 "nbformat": 4,
 "nbformat_minor": 4
}
