{
 "cells": [
  {
   "cell_type": "markdown",
   "metadata": {},
   "source": [
    "## Importing dataset containing game date, game ID, team IDs, season, and game results"
   ]
  },
  {
   "cell_type": "code",
   "execution_count": 1,
   "metadata": {},
   "outputs": [],
   "source": [
    "# Importing initial data\n",
    "import pandas as pd\n",
    "pd.options.display.max_rows = 1235\n",
    "df = pd.read_csv('games.csv')\n",
    "\n",
    "# Initital preprocessing of data\n",
    "df = df.drop(columns=['GAME_STATUS_TEXT','TEAM_ID_home','FG_PCT_home','FT_PCT_home','FG3_PCT_home','AST_home','REB_home','TEAM_ID_away','FG_PCT_away','FT_PCT_away','FG3_PCT_away','AST_away','REB_away'])\n",
    "## rename VISITOR_TEAM_ID to AWAY_TEAM_ID\n",
    "df = df.rename(columns={'VISITOR_TEAM_ID':'AWAY_TEAM_ID'})\n",
    "## create new column equal to margin of victory/defeat for home team\n",
    "df['MARGIN'] = (df['PTS_home'] - df['PTS_away'])\n",
    "df = df.drop(columns=['PTS_home','PTS_away'])\n",
    "df = df.dropna()\n",
    "\n",
    "# Data type conversions (GAME_DATE_EST -> date, TEAM_ID -> categorical)\n",
    "df['GAME_DATE_EST'] = pd.to_datetime(df.GAME_DATE_EST, infer_datetime_format=True)\n",
    "df['HOME_TEAM_ID'] = df['HOME_TEAM_ID'].astype('category')\n",
    "df['AWAY_TEAM_ID'] = df['AWAY_TEAM_ID'].astype('category')"
   ]
  },
  {
   "cell_type": "code",
   "execution_count": 2,
   "metadata": {
    "scrolled": true
   },
   "outputs": [
    {
     "name": "stdout",
     "output_type": "stream",
     "text": [
      "<class 'pandas.core.frame.DataFrame'>\n",
      "Int64Index: 16979 entries, 16603 to 13297\n",
      "Data columns (total 7 columns):\n",
      " #   Column          Non-Null Count  Dtype         \n",
      "---  ------          --------------  -----         \n",
      " 0   GAME_DATE_EST   16979 non-null  datetime64[ns]\n",
      " 1   GAME_ID         16979 non-null  int64         \n",
      " 2   HOME_TEAM_ID    16979 non-null  category      \n",
      " 3   AWAY_TEAM_ID    16979 non-null  category      \n",
      " 4   SEASON          16979 non-null  int64         \n",
      " 5   HOME_TEAM_WINS  16979 non-null  int64         \n",
      " 6   MARGIN          16979 non-null  float64       \n",
      "dtypes: category(2), datetime64[ns](1), float64(1), int64(3)\n",
      "memory usage: 832.0 KB\n"
     ]
    }
   ],
   "source": [
    "# Eliminating 2003 & 2004 seasons (incomplete team stats data from previous year for all 30 teams)\n",
    "df = df[~(df['SEASON'] == 2003) & ~(df['SEASON'] == 2004)]\n",
    "\n",
    "# Eliminating 2019 & 2020 seasons (incomplete)\n",
    "df = df[~(df['SEASON'] == 2019) & ~(df['SEASON'] == 2020)]\n",
    "\n",
    "# Eliminate preseason and playoff games\n",
    "s2005 = df[df['SEASON'] == 2005]\n",
    "s2005 = s2005[~(s2005['GAME_DATE_EST'] < '2005-11-01') & ~(s2005['GAME_DATE_EST'] > '2006-04-19')]\n",
    "\n",
    "s2006 = df[df['SEASON'] == 2006]\n",
    "s2006 = s2006[~(s2006['GAME_DATE_EST'] < '2006-10-31') & ~(s2006['GAME_DATE_EST'] > '2007-04-18')]\n",
    "\n",
    "s2007 = df[df['SEASON'] == 2007]\n",
    "s2007 = s2007[~(s2007['GAME_DATE_EST'] < '2007-10-30') & ~(s2007['GAME_DATE_EST'] > '2008-04-16')]\n",
    "\n",
    "s2008 = df[df['SEASON'] == 2008]\n",
    "s2008 = s2008[~(s2008['GAME_DATE_EST'] < '2008-10-28') & ~(s2008['GAME_DATE_EST'] > '2009-04-16')]\n",
    "\n",
    "s2009 = df[df['SEASON'] == 2009]\n",
    "s2009 = s2009[~(s2009['GAME_DATE_EST'] < '2009-10-27') & ~(s2009['GAME_DATE_EST'] > '2010-04-14')]\n",
    "\n",
    "s2010 = df[df['SEASON'] == 2010]\n",
    "s2010 = s2010[~(s2010['GAME_DATE_EST'] < '2010-10-26') & ~(s2010['GAME_DATE_EST'] > '2011-04-13')]\n",
    "\n",
    "s2011 = df[df['SEASON'] == 2011]\n",
    "s2011 = s2011[~(s2011['GAME_DATE_EST'] < '2011-12-25') & ~(s2011['GAME_DATE_EST'] > '2012-04-26')]\n",
    "\n",
    "s2012 = df[df['SEASON'] == 2012]\n",
    "s2012 = s2012[~(s2012['GAME_DATE_EST'] < '2012-10-30') & ~(s2012['GAME_DATE_EST'] > '2013-04-17')]\n",
    "\n",
    "s2013 = df[df['SEASON'] == 2013]\n",
    "s2013 = s2013[~(s2013['GAME_DATE_EST'] < '2013-10-29') & ~(s2013['GAME_DATE_EST'] > '2014-04-16')]\n",
    "\n",
    "s2014 = df[df['SEASON'] == 2014]\n",
    "s2014 = s2014[~(s2014['GAME_DATE_EST'] < '2014-10-28') & ~(s2014['GAME_DATE_EST'] > '2015-04-15')]\n",
    "\n",
    "s2015 = df[df['SEASON'] == 2015]\n",
    "s2015 = s2015[~(s2015['GAME_DATE_EST'] < '2015-10-27') & ~(s2015['GAME_DATE_EST'] > '2016-04-13')]\n",
    "\n",
    "s2016 = df[df['SEASON'] == 2016]\n",
    "s2016 = s2016[~(s2016['GAME_DATE_EST'] < '2016-10-25') & ~(s2016['GAME_DATE_EST'] > '2017-04-12')]\n",
    "\n",
    "s2017 = df[df['SEASON'] == 2017]\n",
    "s2017 = s2017[~(s2017['GAME_DATE_EST'] < '2017-10-17') & ~(s2017['GAME_DATE_EST'] > '2018-04-11')]\n",
    "\n",
    "s2018 = df[df['SEASON'] == 2018]\n",
    "s2018 = s2018[~(s2018['GAME_DATE_EST'] < '2018-10-16') & ~(s2018['GAME_DATE_EST'] > '2019-04-10')]\n",
    "\n",
    "# Put individual years back into df after removing preseason & playoffs\n",
    "df = pd.concat([s2018,s2017,s2016,s2015,s2014,s2013,s2012,s2011,s2010,s2009,s2008,s2007,s2006,s2005])\n",
    "df.info()"
   ]
  },
  {
   "cell_type": "markdown",
   "metadata": {},
   "source": [
    "## Importing rankings dataset with winning percentages (current season)"
   ]
  },
  {
   "cell_type": "code",
   "execution_count": 3,
   "metadata": {},
   "outputs": [],
   "source": [
    "# Importing ranking data and eliminating unnecessary columns\n",
    "ranking = pd.read_csv('ranking.csv')\n",
    "ranking = ranking[['TEAM_ID','STANDINGSDATE','W_PCT']]\n",
    "\n",
    "# Data type conversions (GAME_DATE_EST -> date, TEAM_ID -> categorical)\n",
    "ranking['STANDINGSDATE'] = pd.to_datetime(ranking.STANDINGSDATE, infer_datetime_format=True)\n",
    "ranking['TEAM_ID'] = ranking['TEAM_ID'].astype('category')"
   ]
  },
  {
   "cell_type": "markdown",
   "metadata": {},
   "source": [
    "## Adding winning percentages for each team (current season)"
   ]
  },
  {
   "cell_type": "code",
   "execution_count": 4,
   "metadata": {
    "scrolled": true
   },
   "outputs": [],
   "source": [
    "# Join df & ranking (add column of W_PCT for home team)\n",
    "df = pd.merge(df, ranking,  how='left', left_on=['GAME_DATE_EST','HOME_TEAM_ID'], right_on = ['STANDINGSDATE','TEAM_ID'])\n",
    "\n",
    "df = df.rename(columns={'W_PCT':'HOME_W%'})\n",
    "df = df.drop(columns=['STANDINGSDATE','TEAM_ID'])"
   ]
  },
  {
   "cell_type": "code",
   "execution_count": 5,
   "metadata": {},
   "outputs": [],
   "source": [
    "# Join df & ranking (add column of W_PCT for away team)\n",
    "df = pd.merge(df, ranking,  how='left', left_on=['GAME_DATE_EST','AWAY_TEAM_ID'], right_on = ['STANDINGSDATE','TEAM_ID'])\n",
    "\n",
    "df = df.rename(columns={'W_PCT':'AWAY_W%'})\n",
    "df = df.drop(columns=['STANDINGSDATE','TEAM_ID'])"
   ]
  },
  {
   "cell_type": "markdown",
   "metadata": {},
   "source": [
    "## Finalize and export base dataset"
   ]
  },
  {
   "cell_type": "code",
   "execution_count": 6,
   "metadata": {},
   "outputs": [],
   "source": [
    "# Rearrange columns as needed\n",
    "cols = ['GAME_DATE_EST','GAME_ID','SEASON','HOME_TEAM_ID','HOME_W%','AWAY_TEAM_ID','AWAY_W%','HOME_TEAM_WINS','MARGIN']\n",
    "df = df[cols]\n",
    "\n",
    "df.to_csv('baseGames.csv')"
   ]
  },
  {
   "cell_type": "code",
   "execution_count": 7,
   "metadata": {},
   "outputs": [
    {
     "name": "stdout",
     "output_type": "stream",
     "text": [
      "<class 'pandas.core.frame.DataFrame'>\n",
      "Int64Index: 16979 entries, 0 to 16978\n",
      "Data columns (total 9 columns):\n",
      " #   Column          Non-Null Count  Dtype         \n",
      "---  ------          --------------  -----         \n",
      " 0   GAME_DATE_EST   16979 non-null  datetime64[ns]\n",
      " 1   GAME_ID         16979 non-null  int64         \n",
      " 2   SEASON          16979 non-null  int64         \n",
      " 3   HOME_TEAM_ID    16979 non-null  category      \n",
      " 4   HOME_W%         16979 non-null  float64       \n",
      " 5   AWAY_TEAM_ID    16979 non-null  category      \n",
      " 6   AWAY_W%         16979 non-null  float64       \n",
      " 7   HOME_TEAM_WINS  16979 non-null  int64         \n",
      " 8   MARGIN          16979 non-null  float64       \n",
      "dtypes: category(2), datetime64[ns](1), float64(3), int64(3)\n",
      "memory usage: 1.1 MB\n"
     ]
    }
   ],
   "source": [
    "df.info()"
   ]
  },
  {
   "cell_type": "markdown",
   "metadata": {},
   "source": [
    "# Counting a unique value\n",
    "len(pd.unique(df['GAME_DATE_EST']))"
   ]
  },
  {
   "cell_type": "markdown",
   "metadata": {},
   "source": [
    "# Export Pandas Profiling Report\n",
    "pip install pandas-profiling\n",
    "from pandas_profiling import ProfileReport\n",
    "pandasProfileReport = ProfileReport(df)\n",
    "pandasProfileReport.to_file(output_file='pandasProfile.html')"
   ]
  },
  {
   "cell_type": "markdown",
   "metadata": {},
   "source": [
    "# Plot correlation matrix\n",
    "import seaborn as sn\n",
    "import matplotlib.pyplot as plt\n",
    "corrMatrix = df.corr()\n",
    "sn.heatmap(corrMatrix, annot=True)\n",
    "plt.show()"
   ]
  }
 ],
 "metadata": {
  "kernelspec": {
   "display_name": "Python 3",
   "language": "python",
   "name": "python3"
  },
  "language_info": {
   "codemirror_mode": {
    "name": "ipython",
    "version": 3
   },
   "file_extension": ".py",
   "mimetype": "text/x-python",
   "name": "python",
   "nbconvert_exporter": "python",
   "pygments_lexer": "ipython3",
   "version": "3.8.5"
  }
 },
 "nbformat": 4,
 "nbformat_minor": 4
}
