{
 "cells": [
  {
   "cell_type": "markdown",
   "metadata": {},
   "source": [
    "## Importing base dataset with unique identifiers and machine learning targets "
   ]
  },
  {
   "cell_type": "code",
   "execution_count": 1,
   "metadata": {},
   "outputs": [
    {
     "name": "stdout",
     "output_type": "stream",
     "text": [
      "<class 'pandas.core.frame.DataFrame'>\n",
      "RangeIndex: 16979 entries, 0 to 16978\n",
      "Data columns (total 9 columns):\n",
      " #   Column          Non-Null Count  Dtype  \n",
      "---  ------          --------------  -----  \n",
      " 0   GAME_DATE_EST   16979 non-null  object \n",
      " 1   GAME_ID         16979 non-null  int64  \n",
      " 2   SEASON          16979 non-null  int64  \n",
      " 3   HOME_TEAM_ID    16979 non-null  int64  \n",
      " 4   HOME_W%         16979 non-null  float64\n",
      " 5   AWAY_TEAM_ID    16979 non-null  int64  \n",
      " 6   AWAY_W%         16979 non-null  float64\n",
      " 7   HOME_TEAM_WINS  16979 non-null  int64  \n",
      " 8   MARGIN          16979 non-null  float64\n",
      "dtypes: float64(3), int64(5), object(1)\n",
      "memory usage: 1.2+ MB\n"
     ]
    }
   ],
   "source": [
    "import pandas as pd\n",
    "df = pd.read_csv('baseGames.csv')\n",
    "df = df.drop(columns=['ID'])\n",
    "df.info()"
   ]
  },
  {
   "cell_type": "markdown",
   "metadata": {},
   "source": [
    "## Importing vegas dataset with sportsbooks' lines\n",
    "- Keeping unique game IDs, team IDs, and Average Line Spread \n",
    "- Average Line Spread is an average of 5 sportsbooks' lines (Pinnacle, Bovada, Betonline, Heritage, and 5dimes)"
   ]
  },
  {
   "cell_type": "code",
   "execution_count": 2,
   "metadata": {},
   "outputs": [
    {
     "name": "stdout",
     "output_type": "stream",
     "text": [
      "<class 'pandas.core.frame.DataFrame'>\n",
      "Int64Index: 17208 entries, 0 to 2457\n",
      "Data columns (total 4 columns):\n",
      " #   Column               Non-Null Count  Dtype  \n",
      "---  ------               --------------  -----  \n",
      " 0   TeamId               17208 non-null  int64  \n",
      " 1   GameId               17208 non-null  int64  \n",
      " 2   Average_Line_Spread  17204 non-null  float64\n",
      " 3   Spread               17208 non-null  float64\n",
      "dtypes: float64(2), int64(2)\n",
      "memory usage: 672.2 KB\n"
     ]
    }
   ],
   "source": [
    "v12 = pd.read_csv('vegasData/vegas12.txt')\n",
    "v13 = pd.read_csv('vegasData/vegas13.txt')\n",
    "v14 = pd.read_csv('vegasData/vegas14.txt')\n",
    "v15 = pd.read_csv('vegasData/vegas15.txt')\n",
    "v16 = pd.read_csv('vegasData/vegas16.txt')\n",
    "v17 = pd.read_csv('vegasData/vegas17.txt')\n",
    "v18 = pd.read_csv('vegasData/vegas18.txt')\n",
    "\n",
    "vegas = pd.concat([v18,v17,v16,v15,v14,v13,v12])\n",
    "vegas = vegas[['TeamId','GameId','Average_Line_Spread','Spread']]\n",
    "vegas.info()"
   ]
  },
  {
   "cell_type": "markdown",
   "metadata": {},
   "source": [
    "## Joining datasets to add gambling lines to base dataset"
   ]
  },
  {
   "cell_type": "code",
   "execution_count": 3,
   "metadata": {},
   "outputs": [],
   "source": [
    "# Join df & ranking (add column of W_PCT for home team)\n",
    "df = pd.merge(df, vegas,  how='left', left_on=['GAME_ID','HOME_TEAM_ID'], right_on = ['GameId','TeamId'])\n",
    "df = df.drop(columns=['GameId','TeamId','Spread'])\n",
    "df = df.rename(columns={'Average_Line_Spread':'SPREAD'})"
   ]
  },
  {
   "cell_type": "markdown",
   "metadata": {},
   "source": [
    "## Finalize and export base dataset + gambling point spreads"
   ]
  },
  {
   "cell_type": "code",
   "execution_count": 4,
   "metadata": {},
   "outputs": [],
   "source": [
    "# Rearrange columns as needed\n",
    "cols = ['GAME_DATE_EST','GAME_ID','SEASON','HOME_TEAM_ID','HOME_W%','AWAY_TEAM_ID','AWAY_W%','SPREAD','HOME_TEAM_WINS','MARGIN']\n",
    "df = df[cols]\n",
    "\n",
    "# Export to new csv file\n",
    "df.to_csv('baseGamesAndOdds.csv')"
   ]
  }
 ],
 "metadata": {
  "kernelspec": {
   "display_name": "Python 3",
   "language": "python",
   "name": "python3"
  },
  "language_info": {
   "codemirror_mode": {
    "name": "ipython",
    "version": 3
   },
   "file_extension": ".py",
   "mimetype": "text/x-python",
   "name": "python",
   "nbconvert_exporter": "python",
   "pygments_lexer": "ipython3",
   "version": "3.8.5"
  }
 },
 "nbformat": 4,
 "nbformat_minor": 4
}
