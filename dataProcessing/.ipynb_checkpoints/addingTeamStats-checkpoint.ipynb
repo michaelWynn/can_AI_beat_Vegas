{
 "cells": [
  {
   "cell_type": "markdown",
   "metadata": {},
   "source": [
    "## Importing base dataset with unique identifiers and machine learning targets"
   ]
  },
  {
   "cell_type": "code",
   "execution_count": 1,
   "metadata": {},
   "outputs": [
    {
     "name": "stdout",
     "output_type": "stream",
     "text": [
      "<class 'pandas.core.frame.DataFrame'>\n",
      "RangeIndex: 16979 entries, 0 to 16978\n",
      "Data columns (total 9 columns):\n",
      " #   Column          Non-Null Count  Dtype  \n",
      "---  ------          --------------  -----  \n",
      " 0   GAME_DATE_EST   16979 non-null  object \n",
      " 1   GAME_ID         16979 non-null  int64  \n",
      " 2   SEASON          16979 non-null  int64  \n",
      " 3   HOME_TEAM_ID    16979 non-null  int64  \n",
      " 4   HOME_W%         16979 non-null  float64\n",
      " 5   AWAY_TEAM_ID    16979 non-null  int64  \n",
      " 6   AWAY_W%         16979 non-null  float64\n",
      " 7   HOME_TEAM_WINS  16979 non-null  int64  \n",
      " 8   MARGIN          16979 non-null  float64\n",
      "dtypes: float64(3), int64(5), object(1)\n",
      "memory usage: 1.2+ MB\n"
     ]
    }
   ],
   "source": [
    "# Importing initial data\n",
    "import pandas as pd\n",
    "df = pd.read_csv('baseGames.csv')\n",
    "df = df.drop(columns=['ID'])\n",
    "df.info()"
   ]
  },
  {
   "cell_type": "markdown",
   "metadata": {},
   "source": [
    "## Importing stats dataset with basic and advanced stats (previous season)"
   ]
  },
  {
   "cell_type": "code",
   "execution_count": 2,
   "metadata": {},
   "outputs": [],
   "source": [
    "# Importing team stats data\n",
    "stats = pd.read_excel('teamStatsRaw.xlsx')\n",
    "\n",
    "# Seperating team statistics into groups - cannot use all 80 columns\n",
    "stats_basic = stats[['nextSeason','teamID','Win %','FG%','3P%','FT%','REB','AST','TOV','STL','BLK']]\n",
    "stats_advanced = stats[['nextSeason','teamID','MOV','PIE (Team)','Dean Oliver Team FF Rating','Dean Oliver Opp FF Rating',\n",
    "                        'Dean Oliver Net FF Rating','Sully Team FF Rating','Sully Opp FF Rating','Sully Net FF Rating']]\n",
    "# Make a copy of base dataframe to use with advanced stats\n",
    "df2 = df"
   ]
  },
  {
   "cell_type": "markdown",
   "metadata": {},
   "source": [
    "## Adding basic stats for each team (previous season)"
   ]
  },
  {
   "cell_type": "code",
   "execution_count": 3,
   "metadata": {},
   "outputs": [],
   "source": [
    "df = pd.merge(df, stats_basic,  how='left', left_on=['SEASON','HOME_TEAM_ID'], right_on = ['nextSeason','teamID'])\n",
    "\n",
    "# Stats from previous season are named including PS\n",
    "df = df.rename(columns={'Win %':'HOME_PS_W%', 'FG%':'HOME_PS_FG%', '3P%':'HOME_PS_3P%', 'FT%':'HOME_PS_FT%', \n",
    "                        'REB':'HOME_PS_REB', 'AST':'HOME_PS_AST', 'TOV':'HOME_PS_TOV', 'STL':'HOME_PS_STL', 'BLK':'HOME_PS_BLK'})\n",
    "df = df.drop(columns=['nextSeason','teamID'])"
   ]
  },
  {
   "cell_type": "code",
   "execution_count": 4,
   "metadata": {},
   "outputs": [],
   "source": [
    "df = pd.merge(df, stats_basic,  how='left', left_on=['SEASON','AWAY_TEAM_ID'], right_on = ['nextSeason','teamID'])\n",
    "\n",
    "# Stats from previous season are named including PS\n",
    "df = df.rename(columns={'Win %':'AWAY_PS_W%', 'FG%':'AWAY_PS_FG%', '3P%':'AWAY_PS_3P%', 'FT%':'AWAY_PS_FT%', \n",
    "                        'REB':'AWAY_PS_REB', 'AST':'AWAY_PS_AST', 'TOV':'AWAY_PS_TOV', 'STL':'AWAY_PS_STL', 'BLK':'AWAY_PS_BLK'})\n",
    "df = df.drop(columns=['nextSeason','teamID'])"
   ]
  },
  {
   "cell_type": "markdown",
   "metadata": {},
   "source": [
    "## Finalize and export games with basic stats added as 'games_basic.csv'"
   ]
  },
  {
   "cell_type": "code",
   "execution_count": 5,
   "metadata": {},
   "outputs": [],
   "source": [
    "# Rearrange columns as needed\n",
    "cols = ['GAME_DATE_EST','GAME_ID','SEASON','HOME_TEAM_ID','HOME_W%','HOME_PS_W%','HOME_PS_FG%','HOME_PS_3P%','HOME_PS_FT%',\n",
    "        'HOME_PS_REB','HOME_PS_AST','HOME_PS_TOV','HOME_PS_STL','HOME_PS_BLK','AWAY_TEAM_ID','AWAY_W%','AWAY_PS_W%',\n",
    "        'AWAY_PS_FG%','AWAY_PS_3P%','AWAY_PS_FT%','AWAY_PS_REB','AWAY_PS_AST','AWAY_PS_TOV','AWAY_PS_STL','AWAY_PS_BLK',\n",
    "        'HOME_TEAM_WINS','MARGIN']\n",
    "df = df[cols]\n",
    "\n",
    "# Export modified dataframe to a new csv file, \"games_basic.csv\"\n",
    "df.to_csv('games_basic.csv')"
   ]
  },
  {
   "cell_type": "markdown",
   "metadata": {},
   "source": [
    "## Adding advanced stats for each team (previous season)"
   ]
  },
  {
   "cell_type": "code",
   "execution_count": 6,
   "metadata": {},
   "outputs": [],
   "source": [
    "df2 = pd.merge(df2, stats_advanced,  how='left', left_on=['SEASON','HOME_TEAM_ID'], right_on = ['nextSeason','teamID'])\n",
    "\n",
    "# Stats from previous season are named including PS\n",
    "df2 = df2.rename(columns={'MOV':'HOME_PS_MOV','PIE (Team)':'HOME_PS_PIE','Dean Oliver Team FF Rating':'HOME_PS_TEAM_DOFF',\n",
    "                        'Dean Oliver Opp FF Rating':'HOME_PS_OPP_DOFF','Dean Oliver Net FF Rating':'HOME_PS_NET_DOFF',\n",
    "                        'Sully Team FF Rating':'HOME_PS_TEAM_SFF','Sully Opp FF Rating':'HOME_PS_OPP_SFF',\n",
    "                        'Sully Net FF Rating':'HOME_PS_NET_SFF'})\n",
    "df2 = df2.drop(columns=['nextSeason','teamID'])"
   ]
  },
  {
   "cell_type": "code",
   "execution_count": 7,
   "metadata": {},
   "outputs": [],
   "source": [
    "df2 = pd.merge(df2, stats_advanced,  how='left', left_on=['SEASON','AWAY_TEAM_ID'], right_on = ['nextSeason','teamID'])\n",
    "\n",
    "# Stats from previous season are named including PS\n",
    "df2 = df2.rename(columns={'MOV':'AWAY_PS_MOV','PIE (Team)':'AWAY_PS_PIE','Dean Oliver Team FF Rating':'AWAY_PS_TEAM_DOFF',\n",
    "                        'Dean Oliver Opp FF Rating':'AWAY_PS_OPP_DOFF','Dean Oliver Net FF Rating':'AWAY_PS_NET_DOFF',\n",
    "                        'Sully Team FF Rating':'AWAY_PS_TEAM_SFF','Sully Opp FF Rating':'AWAY_PS_OPP_SFF',\n",
    "                        'Sully Net FF Rating':'AWAY_PS_NET_SFF'})\n",
    "df2 = df2.drop(columns=['nextSeason','teamID'])"
   ]
  },
  {
   "cell_type": "markdown",
   "metadata": {},
   "source": [
    "## Finalize and export games with advanced stats added as 'games_advanced.csv'"
   ]
  },
  {
   "cell_type": "code",
   "execution_count": 8,
   "metadata": {},
   "outputs": [],
   "source": [
    "# Rearrange columns as needed\n",
    "cols = ['GAME_DATE_EST','GAME_ID','SEASON','HOME_TEAM_ID','HOME_W%','HOME_PS_MOV','HOME_PS_PIE','HOME_PS_TEAM_DOFF',\n",
    "        'HOME_PS_OPP_DOFF','HOME_PS_NET_DOFF','HOME_PS_TEAM_SFF','HOME_PS_OPP_SFF','HOME_PS_NET_SFF','AWAY_TEAM_ID',\n",
    "        'AWAY_W%','AWAY_PS_MOV','AWAY_PS_PIE','AWAY_PS_TEAM_DOFF','AWAY_PS_OPP_DOFF','AWAY_PS_NET_DOFF','AWAY_PS_TEAM_SFF',\n",
    "        'AWAY_PS_OPP_SFF','AWAY_PS_NET_SFF','HOME_TEAM_WINS','MARGIN']\n",
    "df2 = df2[cols]\n",
    "\n",
    "# Export modified dataframe to a new csv file, \"games_advanced.csv\"\n",
    "df2.to_csv('games_advanced.csv')"
   ]
  }
 ],
 "metadata": {
  "kernelspec": {
   "display_name": "Python 3",
   "language": "python",
   "name": "python3"
  },
  "language_info": {
   "codemirror_mode": {
    "name": "ipython",
    "version": 3
   },
   "file_extension": ".py",
   "mimetype": "text/x-python",
   "name": "python",
   "nbconvert_exporter": "python",
   "pygments_lexer": "ipython3",
   "version": "3.8.5"
  }
 },
 "nbformat": 4,
 "nbformat_minor": 4
}
