{
 "cells": [
  {
   "cell_type": "code",
   "execution_count": 1,
   "metadata": {},
   "outputs": [
    {
     "name": "stdout",
     "output_type": "stream",
     "text": [
      "<class 'pandas.core.frame.DataFrame'>\n",
      "RangeIndex: 16979 entries, 0 to 16978\n",
      "Data columns (total 10 columns):\n",
      " #   Column          Non-Null Count  Dtype  \n",
      "---  ------          --------------  -----  \n",
      " 0   GAME_DATE_EST   16979 non-null  object \n",
      " 1   GAME_ID         16979 non-null  int64  \n",
      " 2   SEASON          16979 non-null  int64  \n",
      " 3   HOME_TEAM_ID    16979 non-null  int64  \n",
      " 4   HOME_W%         16979 non-null  float64\n",
      " 5   AWAY_TEAM_ID    16979 non-null  int64  \n",
      " 6   AWAY_W%         16979 non-null  float64\n",
      " 7   SPREAD          8602 non-null   float64\n",
      " 8   HOME_TEAM_WINS  16979 non-null  int64  \n",
      " 9   MARGIN          16979 non-null  float64\n",
      "dtypes: float64(4), int64(5), object(1)\n",
      "memory usage: 1.3+ MB\n"
     ]
    }
   ],
   "source": [
    "# Importing initial data\n",
    "import pandas as pd\n",
    "df = pd.read_csv('baseGamesAndOdds.csv')\n",
    "df = df.drop(columns=['ID'])\n",
    "df.info()"
   ]
  },
  {
   "cell_type": "code",
   "execution_count": 2,
   "metadata": {},
   "outputs": [
    {
     "name": "stdout",
     "output_type": "stream",
     "text": [
      "<class 'pandas.core.frame.DataFrame'>\n",
      "RangeIndex: 595 entries, 0 to 594\n",
      "Data columns (total 19 columns):\n",
      " #   Column                      Non-Null Count  Dtype  \n",
      "---  ------                      --------------  -----  \n",
      " 0   nextSeason                  595 non-null    int64  \n",
      " 1   teamID                      595 non-null    int64  \n",
      " 2   Win %                       595 non-null    float64\n",
      " 3   FG%                         595 non-null    float64\n",
      " 4   3P%                         595 non-null    float64\n",
      " 5   FT%                         595 non-null    float64\n",
      " 6   REB                         595 non-null    float64\n",
      " 7   AST                         595 non-null    float64\n",
      " 8   TOV                         595 non-null    float64\n",
      " 9   STL                         595 non-null    float64\n",
      " 10  BLK                         595 non-null    float64\n",
      " 11  MOV                         595 non-null    float64\n",
      " 12  PIE (Team)                  595 non-null    float64\n",
      " 13  Dean Oliver Team FF Rating  595 non-null    float64\n",
      " 14  Dean Oliver Opp FF Rating   595 non-null    float64\n",
      " 15  Dean Oliver Net FF Rating   595 non-null    float64\n",
      " 16  Sully Team FF Rating        595 non-null    float64\n",
      " 17  Sully Opp FF Rating         595 non-null    float64\n",
      " 18  Sully Net FF Rating         595 non-null    float64\n",
      "dtypes: float64(17), int64(2)\n",
      "memory usage: 88.4 KB\n"
     ]
    }
   ],
   "source": [
    "# Importing team stats data\n",
    "stats = pd.read_excel('teamStatsRaw.xlsx')\n",
    "\n",
    "# Seperate stats I want to use\n",
    "stats = stats[['nextSeason','teamID','Win %','FG%','3P%','FT%','REB','AST','TOV','STL','BLK','MOV','PIE (Team)',\n",
    "               'Dean Oliver Team FF Rating','Dean Oliver Opp FF Rating','Dean Oliver Net FF Rating','Sully Team FF Rating',\n",
    "               'Sully Opp FF Rating','Sully Net FF Rating']]\n",
    "stats.info()"
   ]
  },
  {
   "cell_type": "code",
   "execution_count": 3,
   "metadata": {},
   "outputs": [
    {
     "name": "stdout",
     "output_type": "stream",
     "text": [
      "<class 'pandas.core.frame.DataFrame'>\n",
      "Int64Index: 16979 entries, 0 to 16978\n",
      "Data columns (total 27 columns):\n",
      " #   Column             Non-Null Count  Dtype  \n",
      "---  ------             --------------  -----  \n",
      " 0   GAME_DATE_EST      16979 non-null  object \n",
      " 1   GAME_ID            16979 non-null  int64  \n",
      " 2   SEASON             16979 non-null  int64  \n",
      " 3   HOME_TEAM_ID       16979 non-null  int64  \n",
      " 4   HOME_W%            16979 non-null  float64\n",
      " 5   HOME_PS_W%         16979 non-null  float64\n",
      " 6   HOME_PS_FG%        16979 non-null  float64\n",
      " 7   HOME_PS_3P%        16979 non-null  float64\n",
      " 8   HOME_PS_FT%        16979 non-null  float64\n",
      " 9   HOME_PS_REB        16979 non-null  float64\n",
      " 10  HOME_PS_AST        16979 non-null  float64\n",
      " 11  HOME_PS_TOV        16979 non-null  float64\n",
      " 12  HOME_PS_STL        16979 non-null  float64\n",
      " 13  HOME_PS_BLK        16979 non-null  float64\n",
      " 14  HOME_PS_MOV        16979 non-null  float64\n",
      " 15  HOME_PS_PIE        16979 non-null  float64\n",
      " 16  HOME_PS_TEAM_DOFF  16979 non-null  float64\n",
      " 17  HOME_PS_OPP_DOFF   16979 non-null  float64\n",
      " 18  HOME_PS_NET_DOFF   16979 non-null  float64\n",
      " 19  HOME_PS_TEAM_SFF   16979 non-null  float64\n",
      " 20  HOME_PS_OPP_SFF    16979 non-null  float64\n",
      " 21  HOME_PS_NET_SFF    16979 non-null  float64\n",
      " 22  AWAY_TEAM_ID       16979 non-null  int64  \n",
      " 23  AWAY_W%            16979 non-null  float64\n",
      " 24  SPREAD             8602 non-null   float64\n",
      " 25  HOME_TEAM_WINS     16979 non-null  int64  \n",
      " 26  MARGIN             16979 non-null  float64\n",
      "dtypes: float64(21), int64(5), object(1)\n",
      "memory usage: 3.6+ MB\n"
     ]
    }
   ],
   "source": [
    "df = pd.merge(df, stats,  how='left', left_on=['SEASON','HOME_TEAM_ID'], right_on = ['nextSeason','teamID'])\n",
    "\n",
    "# Stats from previous season are named including PS\n",
    "df = df.drop(columns=['nextSeason','teamID'])\n",
    "df = df.rename(columns={'Win %':'HOME_PS_W%', 'FG%':'HOME_PS_FG%', '3P%':'HOME_PS_3P%', 'FT%':'HOME_PS_FT%', \n",
    "                        'REB':'HOME_PS_REB', 'AST':'HOME_PS_AST', 'TOV':'HOME_PS_TOV', 'STL':'HOME_PS_STL', \n",
    "                        'BLK':'HOME_PS_BLK','MOV':'HOME_PS_MOV','PIE (Team)':'HOME_PS_PIE',\n",
    "                        'Dean Oliver Team FF Rating':'HOME_PS_TEAM_DOFF','Dean Oliver Opp FF Rating':'HOME_PS_OPP_DOFF',\n",
    "                        'Dean Oliver Net FF Rating':'HOME_PS_NET_DOFF','Sully Team FF Rating':'HOME_PS_TEAM_SFF',\n",
    "                        'Sully Opp FF Rating':'HOME_PS_OPP_SFF','Sully Net FF Rating':'HOME_PS_NET_SFF'})\n",
    "\n",
    "cols = ['GAME_DATE_EST','GAME_ID','SEASON','HOME_TEAM_ID','HOME_W%','HOME_PS_W%','HOME_PS_FG%','HOME_PS_3P%','HOME_PS_FT%',\n",
    "        'HOME_PS_REB','HOME_PS_AST','HOME_PS_TOV','HOME_PS_STL','HOME_PS_BLK','HOME_PS_MOV','HOME_PS_PIE','HOME_PS_TEAM_DOFF',\n",
    "        'HOME_PS_OPP_DOFF','HOME_PS_NET_DOFF','HOME_PS_TEAM_SFF','HOME_PS_OPP_SFF','HOME_PS_NET_SFF','AWAY_TEAM_ID','AWAY_W%',\n",
    "        'SPREAD','HOME_TEAM_WINS','MARGIN']\n",
    "df = df[cols]\n",
    "\n",
    "df.info()"
   ]
  },
  {
   "cell_type": "code",
   "execution_count": 4,
   "metadata": {},
   "outputs": [
    {
     "name": "stdout",
     "output_type": "stream",
     "text": [
      "<class 'pandas.core.frame.DataFrame'>\n",
      "Int64Index: 16979 entries, 0 to 16978\n",
      "Data columns (total 44 columns):\n",
      " #   Column             Non-Null Count  Dtype  \n",
      "---  ------             --------------  -----  \n",
      " 0   GAME_DATE_EST      16979 non-null  object \n",
      " 1   GAME_ID            16979 non-null  int64  \n",
      " 2   SEASON             16979 non-null  int64  \n",
      " 3   HOME_TEAM_ID       16979 non-null  int64  \n",
      " 4   HOME_W%            16979 non-null  float64\n",
      " 5   HOME_PS_W%         16979 non-null  float64\n",
      " 6   HOME_PS_FG%        16979 non-null  float64\n",
      " 7   HOME_PS_3P%        16979 non-null  float64\n",
      " 8   HOME_PS_FT%        16979 non-null  float64\n",
      " 9   HOME_PS_REB        16979 non-null  float64\n",
      " 10  HOME_PS_AST        16979 non-null  float64\n",
      " 11  HOME_PS_TOV        16979 non-null  float64\n",
      " 12  HOME_PS_STL        16979 non-null  float64\n",
      " 13  HOME_PS_BLK        16979 non-null  float64\n",
      " 14  HOME_PS_MOV        16979 non-null  float64\n",
      " 15  HOME_PS_PIE        16979 non-null  float64\n",
      " 16  HOME_PS_TEAM_DOFF  16979 non-null  float64\n",
      " 17  HOME_PS_OPP_DOFF   16979 non-null  float64\n",
      " 18  HOME_PS_NET_DOFF   16979 non-null  float64\n",
      " 19  HOME_PS_TEAM_SFF   16979 non-null  float64\n",
      " 20  HOME_PS_OPP_SFF    16979 non-null  float64\n",
      " 21  HOME_PS_NET_SFF    16979 non-null  float64\n",
      " 22  AWAY_TEAM_ID       16979 non-null  int64  \n",
      " 23  AWAY_W%            16979 non-null  float64\n",
      " 24  AWAY_PS_W%         16979 non-null  float64\n",
      " 25  AWAY_PS_FG%        16979 non-null  float64\n",
      " 26  AWAY_PS_3P%        16979 non-null  float64\n",
      " 27  AWAY_PS_FT%        16979 non-null  float64\n",
      " 28  AWAY_PS_REB        16979 non-null  float64\n",
      " 29  AWAY_PS_AST        16979 non-null  float64\n",
      " 30  AWAY_PS_TOV        16979 non-null  float64\n",
      " 31  AWAY_PS_STL        16979 non-null  float64\n",
      " 32  AWAY_PS_BLK        16979 non-null  float64\n",
      " 33  AWAY_PS_MOV        16979 non-null  float64\n",
      " 34  AWAY_PS_PIE        16979 non-null  float64\n",
      " 35  AWAY_PS_TEAM_DOFF  16979 non-null  float64\n",
      " 36  AWAY_PS_OPP_DOFF   16979 non-null  float64\n",
      " 37  AWAY_PS_NET_DOFF   16979 non-null  float64\n",
      " 38  AWAY_PS_TEAM_SFF   16979 non-null  float64\n",
      " 39  AWAY_PS_OPP_SFF    16979 non-null  float64\n",
      " 40  AWAY_PS_NET_SFF    16979 non-null  float64\n",
      " 41  SPREAD             8602 non-null   float64\n",
      " 42  HOME_TEAM_WINS     16979 non-null  int64  \n",
      " 43  MARGIN             16979 non-null  float64\n",
      "dtypes: float64(38), int64(5), object(1)\n",
      "memory usage: 5.8+ MB\n"
     ]
    }
   ],
   "source": [
    "df = pd.merge(df, stats,  how='left', left_on=['SEASON','AWAY_TEAM_ID'], right_on = ['nextSeason','teamID'])\n",
    "\n",
    "df = df.drop(columns=['nextSeason','teamID'])\n",
    "df = df.rename(columns={'Win %':'AWAY_PS_W%','FG%':'AWAY_PS_FG%','3P%':'AWAY_PS_3P%','FT%':'AWAY_PS_FT%', \n",
    "                        'REB':'AWAY_PS_REB','AST':'AWAY_PS_AST','TOV':'AWAY_PS_TOV','STL':'AWAY_PS_STL','BLK':'AWAY_PS_BLK',\n",
    "                        'MOV':'AWAY_PS_MOV','PIE (Team)':'AWAY_PS_PIE','Dean Oliver Team FF Rating':'AWAY_PS_TEAM_DOFF',\n",
    "                        'Dean Oliver Opp FF Rating':'AWAY_PS_OPP_DOFF','Dean Oliver Net FF Rating':'AWAY_PS_NET_DOFF',\n",
    "                        'Sully Team FF Rating':'AWAY_PS_TEAM_SFF','Sully Opp FF Rating':'AWAY_PS_OPP_SFF',\n",
    "                        'Sully Net FF Rating':'AWAY_PS_NET_SFF'})\n",
    "\n",
    "cols = ['GAME_DATE_EST','GAME_ID','SEASON','HOME_TEAM_ID','HOME_W%','HOME_PS_W%','HOME_PS_FG%','HOME_PS_3P%','HOME_PS_FT%',\n",
    "        'HOME_PS_REB','HOME_PS_AST','HOME_PS_TOV','HOME_PS_STL','HOME_PS_BLK','HOME_PS_MOV','HOME_PS_PIE','HOME_PS_TEAM_DOFF',\n",
    "        'HOME_PS_OPP_DOFF','HOME_PS_NET_DOFF','HOME_PS_TEAM_SFF','HOME_PS_OPP_SFF','HOME_PS_NET_SFF','AWAY_TEAM_ID',\n",
    "        'AWAY_W%','AWAY_PS_W%','AWAY_PS_FG%','AWAY_PS_3P%','AWAY_PS_FT%','AWAY_PS_REB','AWAY_PS_AST','AWAY_PS_TOV',\n",
    "        'AWAY_PS_STL','AWAY_PS_BLK','AWAY_PS_MOV','AWAY_PS_PIE','AWAY_PS_TEAM_DOFF','AWAY_PS_OPP_DOFF','AWAY_PS_NET_DOFF',\n",
    "        'AWAY_PS_TEAM_SFF','AWAY_PS_OPP_SFF','AWAY_PS_NET_SFF','SPREAD','HOME_TEAM_WINS','MARGIN']\n",
    "df = df[cols]\n",
    "\n",
    "df.info()"
   ]
  },
  {
   "cell_type": "code",
   "execution_count": 5,
   "metadata": {},
   "outputs": [],
   "source": [
    "df.to_csv('games_large.csv')"
   ]
  }
 ],
 "metadata": {
  "kernelspec": {
   "display_name": "Python 3",
   "language": "python",
   "name": "python3"
  },
  "language_info": {
   "codemirror_mode": {
    "name": "ipython",
    "version": 3
   },
   "file_extension": ".py",
   "mimetype": "text/x-python",
   "name": "python",
   "nbconvert_exporter": "python",
   "pygments_lexer": "ipython3",
   "version": "3.8.5"
  }
 },
 "nbformat": 4,
 "nbformat_minor": 4
}
