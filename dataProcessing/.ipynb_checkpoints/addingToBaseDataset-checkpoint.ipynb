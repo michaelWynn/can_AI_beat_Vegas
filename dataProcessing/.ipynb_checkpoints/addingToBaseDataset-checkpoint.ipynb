{
 "cells": [
  {
   "cell_type": "code",
   "execution_count": 2,
   "metadata": {},
   "outputs": [],
   "source": [
    "import pandas as pd\n",
    "df = pd.read_csv('baseGames.csv')\n",
    "ranking = pd.read_csv('ranking.csv')"
   ]
  },
  {
   "cell_type": "code",
   "execution_count": 3,
   "metadata": {},
   "outputs": [
    {
     "name": "stdout",
     "output_type": "stream",
     "text": [
      "<class 'pandas.core.frame.DataFrame'>\n",
      "RangeIndex: 23421 entries, 0 to 23420\n",
      "Data columns (total 8 columns):\n",
      " #   Column          Non-Null Count  Dtype  \n",
      "---  ------          --------------  -----  \n",
      " 0   Unnamed: 0      23421 non-null  int64  \n",
      " 1   GAME_DATE_EST   23421 non-null  object \n",
      " 2   GAME_ID         23421 non-null  int64  \n",
      " 3   HOME_TEAM_ID    23421 non-null  int64  \n",
      " 4   AWAY_TEAM_ID    23421 non-null  int64  \n",
      " 5   SEASON          23421 non-null  int64  \n",
      " 6   HOME_TEAM_WINS  23421 non-null  int64  \n",
      " 7   MARGIN          23421 non-null  float64\n",
      "dtypes: float64(1), int64(6), object(1)\n",
      "memory usage: 1.4+ MB\n"
     ]
    }
   ],
   "source": [
    "df.info()"
   ]
  },
  {
   "cell_type": "code",
   "execution_count": 4,
   "metadata": {},
   "outputs": [
    {
     "name": "stdout",
     "output_type": "stream",
     "text": [
      "<class 'pandas.core.frame.DataFrame'>\n",
      "RangeIndex: 188383 entries, 0 to 188382\n",
      "Data columns (total 13 columns):\n",
      " #   Column         Non-Null Count   Dtype  \n",
      "---  ------         --------------   -----  \n",
      " 0   TEAM_ID        188383 non-null  int64  \n",
      " 1   LEAGUE_ID      188383 non-null  int64  \n",
      " 2   SEASON_ID      188383 non-null  int64  \n",
      " 3   STANDINGSDATE  188383 non-null  object \n",
      " 4   CONFERENCE     188383 non-null  object \n",
      " 5   TEAM           188383 non-null  object \n",
      " 6   G              188383 non-null  int64  \n",
      " 7   W              188383 non-null  int64  \n",
      " 8   L              188383 non-null  int64  \n",
      " 9   W_PCT          188383 non-null  float64\n",
      " 10  HOME_RECORD    188383 non-null  object \n",
      " 11  ROAD_RECORD    188383 non-null  object \n",
      " 12  RETURNTOPLAY   3990 non-null    float64\n",
      "dtypes: float64(2), int64(6), object(5)\n",
      "memory usage: 18.7+ MB\n"
     ]
    }
   ],
   "source": [
    "ranking.info()"
   ]
  }
 ],
 "metadata": {
  "kernelspec": {
   "display_name": "Python 3",
   "language": "python",
   "name": "python3"
  },
  "language_info": {
   "codemirror_mode": {
    "name": "ipython",
    "version": 3
   },
   "file_extension": ".py",
   "mimetype": "text/x-python",
   "name": "python",
   "nbconvert_exporter": "python",
   "pygments_lexer": "ipython3",
   "version": "3.8.5"
  }
 },
 "nbformat": 4,
 "nbformat_minor": 4
}
