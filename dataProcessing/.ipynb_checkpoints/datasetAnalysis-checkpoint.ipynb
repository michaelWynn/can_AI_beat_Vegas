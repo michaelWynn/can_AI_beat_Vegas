{
 "cells": [
  {
   "cell_type": "code",
   "execution_count": 1,
   "metadata": {},
   "outputs": [],
   "source": [
    "import pandas as pd\n",
    "ogBase = pd.read_csv('games.csv')\n",
    "basePlusBasic = pd.read_csv('games_basic.csv')\n",
    "basePlusAdvanced = pd.read_csv('games_advanced.csv')"
   ]
  },
  {
   "cell_type": "code",
   "execution_count": 2,
   "metadata": {},
   "outputs": [
    {
     "name": "stdout",
     "output_type": "stream",
     "text": [
      "<class 'pandas.core.frame.DataFrame'>\n",
      "RangeIndex: 23520 entries, 0 to 23519\n",
      "Data columns (total 21 columns):\n",
      " #   Column            Non-Null Count  Dtype  \n",
      "---  ------            --------------  -----  \n",
      " 0   GAME_DATE_EST     23520 non-null  object \n",
      " 1   GAME_ID           23520 non-null  int64  \n",
      " 2   GAME_STATUS_TEXT  23520 non-null  object \n",
      " 3   HOME_TEAM_ID      23520 non-null  int64  \n",
      " 4   VISITOR_TEAM_ID   23520 non-null  int64  \n",
      " 5   SEASON            23520 non-null  int64  \n",
      " 6   TEAM_ID_home      23520 non-null  int64  \n",
      " 7   PTS_home          23421 non-null  float64\n",
      " 8   FG_PCT_home       23421 non-null  float64\n",
      " 9   FT_PCT_home       23421 non-null  float64\n",
      " 10  FG3_PCT_home      23421 non-null  float64\n",
      " 11  AST_home          23421 non-null  float64\n",
      " 12  REB_home          23421 non-null  float64\n",
      " 13  TEAM_ID_away      23520 non-null  int64  \n",
      " 14  PTS_away          23421 non-null  float64\n",
      " 15  FG_PCT_away       23421 non-null  float64\n",
      " 16  FT_PCT_away       23421 non-null  float64\n",
      " 17  FG3_PCT_away      23421 non-null  float64\n",
      " 18  AST_away          23421 non-null  float64\n",
      " 19  REB_away          23421 non-null  float64\n",
      " 20  HOME_TEAM_WINS    23520 non-null  int64  \n",
      "dtypes: float64(12), int64(7), object(2)\n",
      "memory usage: 3.8+ MB\n"
     ]
    }
   ],
   "source": [
    "ogBase.info()"
   ]
  },
  {
   "cell_type": "code",
   "execution_count": 3,
   "metadata": {},
   "outputs": [
    {
     "name": "stdout",
     "output_type": "stream",
     "text": [
      "<class 'pandas.core.frame.DataFrame'>\n",
      "RangeIndex: 16979 entries, 0 to 16978\n",
      "Data columns (total 28 columns):\n",
      " #   Column          Non-Null Count  Dtype  \n",
      "---  ------          --------------  -----  \n",
      " 0   ID              16979 non-null  int64  \n",
      " 1   GAME_DATE_EST   16979 non-null  object \n",
      " 2   GAME_ID         16979 non-null  int64  \n",
      " 3   SEASON          16979 non-null  int64  \n",
      " 4   HOME_TEAM_ID    16979 non-null  int64  \n",
      " 5   HOME_W%         16979 non-null  float64\n",
      " 6   HOME_PS_W%      16979 non-null  float64\n",
      " 7   HOME_PS_FG%     16979 non-null  float64\n",
      " 8   HOME_PS_3P%     16979 non-null  float64\n",
      " 9   HOME_PS_FT%     16979 non-null  float64\n",
      " 10  HOME_PS_REB     16979 non-null  float64\n",
      " 11  HOME_PS_AST     16979 non-null  float64\n",
      " 12  HOME_PS_TOV     16979 non-null  float64\n",
      " 13  HOME_PS_STL     16979 non-null  float64\n",
      " 14  HOME_PS_BLK     16979 non-null  float64\n",
      " 15  AWAY_TEAM_ID    16979 non-null  int64  \n",
      " 16  AWAY_W%         16979 non-null  float64\n",
      " 17  AWAY_PS_W%      16979 non-null  float64\n",
      " 18  AWAY_PS_FG%     16979 non-null  float64\n",
      " 19  AWAY_PS_3P%     16979 non-null  float64\n",
      " 20  AWAY_PS_FT%     16979 non-null  float64\n",
      " 21  AWAY_PS_REB     16979 non-null  float64\n",
      " 22  AWAY_PS_AST     16979 non-null  float64\n",
      " 23  AWAY_PS_TOV     16979 non-null  float64\n",
      " 24  AWAY_PS_STL     16979 non-null  float64\n",
      " 25  AWAY_PS_BLK     16979 non-null  float64\n",
      " 26  HOME_TEAM_WINS  16979 non-null  int64  \n",
      " 27  MARGIN          16979 non-null  float64\n",
      "dtypes: float64(21), int64(6), object(1)\n",
      "memory usage: 3.6+ MB\n"
     ]
    }
   ],
   "source": [
    "basePlusBasic.info()"
   ]
  },
  {
   "cell_type": "code",
   "execution_count": 4,
   "metadata": {},
   "outputs": [
    {
     "name": "stdout",
     "output_type": "stream",
     "text": [
      "<class 'pandas.core.frame.DataFrame'>\n",
      "RangeIndex: 16979 entries, 0 to 16978\n",
      "Data columns (total 26 columns):\n",
      " #   Column             Non-Null Count  Dtype  \n",
      "---  ------             --------------  -----  \n",
      " 0   ID                 16979 non-null  int64  \n",
      " 1   GAME_DATE_EST      16979 non-null  object \n",
      " 2   GAME_ID            16979 non-null  int64  \n",
      " 3   SEASON             16979 non-null  int64  \n",
      " 4   HOME_TEAM_ID       16979 non-null  int64  \n",
      " 5   HOME_W%            16979 non-null  float64\n",
      " 6   HOME_PS_MOV        16979 non-null  float64\n",
      " 7   HOME_PS_PIE        16979 non-null  float64\n",
      " 8   HOME_PS_TEAM_DOFF  16979 non-null  float64\n",
      " 9   HOME_PS_OPP_DOFF   16979 non-null  float64\n",
      " 10  HOME_PS_NET_DOFF   16979 non-null  float64\n",
      " 11  HOME_PS_TEAM_SFF   16979 non-null  float64\n",
      " 12  HOME_PS_OPP_SFF    16979 non-null  float64\n",
      " 13  HOME_PS_NET_SFF    16979 non-null  float64\n",
      " 14  AWAY_TEAM_ID       16979 non-null  int64  \n",
      " 15  AWAY_W%            16979 non-null  float64\n",
      " 16  AWAY_PS_MOV        16979 non-null  float64\n",
      " 17  AWAY_PS_PIE        16979 non-null  float64\n",
      " 18  AWAY_PS_TEAM_DOFF  16979 non-null  float64\n",
      " 19  AWAY_PS_OPP_DOFF   16979 non-null  float64\n",
      " 20  AWAY_PS_NET_DOFF   16979 non-null  float64\n",
      " 21  AWAY_PS_TEAM_SFF   16979 non-null  float64\n",
      " 22  AWAY_PS_OPP_SFF    16979 non-null  float64\n",
      " 23  AWAY_PS_NET_SFF    16979 non-null  float64\n",
      " 24  HOME_TEAM_WINS     16979 non-null  int64  \n",
      " 25  MARGIN             16979 non-null  float64\n",
      "dtypes: float64(19), int64(6), object(1)\n",
      "memory usage: 3.4+ MB\n"
     ]
    }
   ],
   "source": [
    "basePlusAdvanced.info()"
   ]
  }
 ],
 "metadata": {
  "kernelspec": {
   "display_name": "Python 3",
   "language": "python",
   "name": "python3"
  },
  "language_info": {
   "codemirror_mode": {
    "name": "ipython",
    "version": 3
   },
   "file_extension": ".py",
   "mimetype": "text/x-python",
   "name": "python",
   "nbconvert_exporter": "python",
   "pygments_lexer": "ipython3",
   "version": "3.8.5"
  }
 },
 "nbformat": 4,
 "nbformat_minor": 4
}
